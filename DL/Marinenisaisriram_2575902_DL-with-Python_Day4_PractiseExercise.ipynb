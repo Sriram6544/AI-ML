{
 "cells": [
  {
   "cell_type": "markdown",
   "id": "ac1b7e52",
   "metadata": {},
   "source": [
    "#  Build a Neural network with Hyper-parameter fine tuning model"
   ]
  },
  {
   "cell_type": "code",
   "execution_count": 2,
   "id": "de70436c",
   "metadata": {},
   "outputs": [],
   "source": [
    "import numpy as np\n",
    "from tensorflow import keras\n",
    "from tensorflow.keras.utils import to_categorical\n",
    "from tensorflow.keras.optimizers import Adam\n",
    "from tensorflow.keras import layers\n",
    "from tensorflow.keras.datasets import fashion_mnist\n",
    "from keras_tuner import RandomSearch"
   ]
  },
  {
   "cell_type": "code",
   "execution_count": 3,
   "id": "0d351f1e",
   "metadata": {},
   "outputs": [],
   "source": [
    "Trails=2 \n",
    "epochs=3 "
   ]
  },
  {
   "cell_type": "markdown",
   "id": "966d1ebf",
   "metadata": {},
   "source": [
    "# Get the fashion_MNIST dataset"
   ]
  },
  {
   "cell_type": "code",
   "execution_count": 5,
   "id": "18d33285",
   "metadata": {},
   "outputs": [],
   "source": [
    "(xtrain,ytrain),(xval,yval)=fashion_mnist.load_data()\n",
    "xtrain=np.expand_dims(xtrain.astype('float32')/255.,-1)\n",
    "xval=np.expand_dims(xval.astype('float32')/255.,-1)\n",
    "ytrain=to_categorical(ytrain,10)\n",
    "yval=to_categorical(yval,10)"
   ]
  },
  {
   "cell_type": "code",
   "execution_count": 11,
   "id": "ac9e4b82",
   "metadata": {},
   "outputs": [],
   "source": [
    "def build_model(hp):\n",
    "    \"\"\"\n",
    "    Function to build a TF model based on hyperparameter values\n",
    "    \n",
    "    Args:\n",
    "    hp (hyperparameter): values\n",
    "    \n",
    "    Returns:\n",
    "    Model: compiled model\n",
    "    \"\"\"\n",
    "    num_layers = hp.Int('num_layers', 2, 8, default=6)\n",
    "    lr = hp.Choice('learning_rate', [0.0001, 0.05])\n",
    "    inputs = layers.Input(shape=(28, 28, 1))\n",
    "    x = inputs\n",
    "    for idx in range(num_layers):\n",
    "        idx_str = str(idx)\n",
    "        filters = hp.Int('filters_' + idx_str, 32, 256, step=32, default=64)\n",
    "        x = layers.Conv2D(filters=filters, kernel_size=3, padding='same', activation='relu')(x)\n",
    "\n",
    "        if x.shape[1] >= 8:\n",
    "            pool_type = hp.Choice('pool_' + idx_str, values=['max', 'avg'])\n",
    "            if pool_type == 'max':\n",
    "                x = layers.MaxPooling2D(2)(x)\n",
    "            elif pool_type == 'avg':\n",
    "                x = layers.AveragePooling2D(2)(x)\n",
    "\n",
    "    x = layers.Flatten()(x)\n",
    "    outputs = layers.Dense(10, activation='softmax')(x)\n",
    "\n",
    "    # Build model\n",
    "    model = keras.Model(inputs, outputs)\n",
    "    model.compile(optimizer=Adam(lr), loss='categorical_crossentropy', metrics=['accuracy'])\n",
    "    return model\n"
   ]
  },
  {
   "cell_type": "code",
   "execution_count": 12,
   "id": "eb6121f9",
   "metadata": {},
   "outputs": [],
   "source": [
    "tuner=RandomSearch(build_model,objective='val_accuracy',max_trials=Trails,\n",
    "                  project_name='FASHION_MNIST_results')"
   ]
  },
  {
   "cell_type": "code",
   "execution_count": 13,
   "id": "6dc2a017",
   "metadata": {},
   "outputs": [
    {
     "name": "stdout",
     "output_type": "stream",
     "text": [
      "Search space summary\n",
      "Default search space size: 10\n",
      "num_layers (Int)\n",
      "{'default': 6, 'conditions': [], 'min_value': 2, 'max_value': 8, 'step': 1, 'sampling': 'linear'}\n",
      "learning_rate (Choice)\n",
      "{'default': 0.0001, 'conditions': [], 'values': [0.0001, 0.05], 'ordered': True}\n",
      "filters_0 (Int)\n",
      "{'default': 64, 'conditions': [], 'min_value': 32, 'max_value': 256, 'step': 32, 'sampling': 'linear'}\n",
      "pool_0 (Choice)\n",
      "{'default': 'max', 'conditions': [], 'values': ['max', 'avg'], 'ordered': False}\n",
      "filters_1 (Int)\n",
      "{'default': 64, 'conditions': [], 'min_value': 32, 'max_value': 256, 'step': 32, 'sampling': 'linear'}\n",
      "pool_1 (Choice)\n",
      "{'default': 'max', 'conditions': [], 'values': ['max', 'avg'], 'ordered': False}\n",
      "filters_2 (Int)\n",
      "{'default': 64, 'conditions': [], 'min_value': 32, 'max_value': 256, 'step': 32, 'sampling': 'linear'}\n",
      "filters_3 (Int)\n",
      "{'default': 64, 'conditions': [], 'min_value': 32, 'max_value': 256, 'step': 32, 'sampling': 'linear'}\n",
      "filters_4 (Int)\n",
      "{'default': 64, 'conditions': [], 'min_value': 32, 'max_value': 256, 'step': 32, 'sampling': 'linear'}\n",
      "filters_5 (Int)\n",
      "{'default': 64, 'conditions': [], 'min_value': 32, 'max_value': 256, 'step': 32, 'sampling': 'linear'}\n"
     ]
    }
   ],
   "source": [
    "tuner.search_space_summary()"
   ]
  },
  {
   "cell_type": "code",
   "execution_count": 14,
   "id": "b32834c6",
   "metadata": {},
   "outputs": [
    {
     "data": {
      "text/plain": [
       "<bound method BaseTuner.search_space_summary of <keras_tuner.src.tuners.randomsearch.RandomSearch object at 0x0000016060664F50>>"
      ]
     },
     "execution_count": 14,
     "metadata": {},
     "output_type": "execute_result"
    }
   ],
   "source": [
    "tuner.search_space_summary"
   ]
  },
  {
   "cell_type": "code",
   "execution_count": 15,
   "id": "e0256c05",
   "metadata": {},
   "outputs": [
    {
     "name": "stdout",
     "output_type": "stream",
     "text": [
      "Trial 2 Complete [00h 12m 01s]\n",
      "val_accuracy: 0.8118000030517578\n",
      "\n",
      "Best val_accuracy So Far: 0.8434000015258789\n",
      "Total elapsed time: 00h 32m 12s\n"
     ]
    }
   ],
   "source": [
    "tuner.search(xtrain,ytrain,batch_size=128,epochs=2,validation_data=(xval,yval))"
   ]
  },
  {
   "cell_type": "code",
   "execution_count": 16,
   "id": "ad8e1bf7",
   "metadata": {},
   "outputs": [
    {
     "name": "stdout",
     "output_type": "stream",
     "text": [
      "Results summary\n",
      "Results in .\\FASHION_MNIST_results\n",
      "Showing 10 best trials\n",
      "Objective(name=\"val_accuracy\", direction=\"max\")\n",
      "\n",
      "Trial 0 summary\n",
      "Hyperparameters:\n",
      "num_layers: 8\n",
      "learning_rate: 0.0001\n",
      "filters_0: 160\n",
      "pool_0: max\n",
      "filters_1: 192\n",
      "pool_1: avg\n",
      "filters_2: 64\n",
      "filters_3: 256\n",
      "filters_4: 256\n",
      "filters_5: 192\n",
      "filters_6: 64\n",
      "filters_7: 64\n",
      "Score: 0.8434000015258789\n",
      "\n",
      "Trial 1 summary\n",
      "Hyperparameters:\n",
      "num_layers: 4\n",
      "learning_rate: 0.05\n",
      "filters_0: 192\n",
      "pool_0: max\n",
      "filters_1: 160\n",
      "pool_1: avg\n",
      "filters_2: 32\n",
      "filters_3: 32\n",
      "filters_4: 160\n",
      "filters_5: 160\n",
      "filters_6: 160\n",
      "filters_7: 96\n",
      "Score: 0.8118000030517578\n"
     ]
    }
   ],
   "source": [
    "tuner.results_summary()"
   ]
  },
  {
   "cell_type": "code",
   "execution_count": 17,
   "id": "71040f08",
   "metadata": {},
   "outputs": [
    {
     "name": "stdout",
     "output_type": "stream",
     "text": [
      "Model: \"model\"\n",
      "_________________________________________________________________\n",
      " Layer (type)                Output Shape              Param #   \n",
      "=================================================================\n",
      " input_1 (InputLayer)        [(None, 28, 28, 1)]       0         \n",
      "                                                                 \n",
      " conv2d (Conv2D)             (None, 28, 28, 160)       1600      \n",
      "                                                                 \n",
      " max_pooling2d (MaxPooling2  (None, 14, 14, 160)       0         \n",
      " D)                                                              \n",
      "                                                                 \n",
      " conv2d_1 (Conv2D)           (None, 14, 14, 192)       276672    \n",
      "                                                                 \n",
      " average_pooling2d (Average  (None, 7, 7, 192)         0         \n",
      " Pooling2D)                                                      \n",
      "                                                                 \n",
      " conv2d_2 (Conv2D)           (None, 7, 7, 64)          110656    \n",
      "                                                                 \n",
      " conv2d_3 (Conv2D)           (None, 7, 7, 256)         147712    \n",
      "                                                                 \n",
      " conv2d_4 (Conv2D)           (None, 7, 7, 256)         590080    \n",
      "                                                                 \n",
      " conv2d_5 (Conv2D)           (None, 7, 7, 192)         442560    \n",
      "                                                                 \n",
      " conv2d_6 (Conv2D)           (None, 7, 7, 64)          110656    \n",
      "                                                                 \n",
      " conv2d_7 (Conv2D)           (None, 7, 7, 64)          36928     \n",
      "                                                                 \n",
      " flatten (Flatten)           (None, 3136)              0         \n",
      "                                                                 \n",
      " dense (Dense)               (None, 10)                31370     \n",
      "                                                                 \n",
      "=================================================================\n",
      "Total params: 1748234 (6.67 MB)\n",
      "Trainable params: 1748234 (6.67 MB)\n",
      "Non-trainable params: 0 (0.00 Byte)\n",
      "_________________________________________________________________\n"
     ]
    }
   ],
   "source": [
    "best_model=tuner.get_best_models(num_models=1)[0]\n",
    "best_model.summary()\n"
   ]
  },
  {
   "cell_type": "markdown",
   "id": "4405e810",
   "metadata": {},
   "source": [
    "# Build an image classifier model with Pytorch"
   ]
  },
  {
   "cell_type": "code",
   "execution_count": 1,
   "id": "0029fcf0",
   "metadata": {},
   "outputs": [],
   "source": [
    "import torch\n",
    "import torchvision\n",
    "import torchvision.transforms as transforms\n"
   ]
  },
  {
   "cell_type": "code",
   "execution_count": 17,
   "id": "728e91ea",
   "metadata": {},
   "outputs": [
    {
     "name": "stdout",
     "output_type": "stream",
     "text": [
      "Downloading http://ufldl.stanford.edu/housenumbers/train_32x32.mat to ./data\\train_32x32.mat\n"
     ]
    },
    {
     "name": "stderr",
     "output_type": "stream",
     "text": [
      "100%|███████████████████████████████████████████████████████████████| 182040794/182040794 [00:45<00:00, 4034582.29it/s]\n"
     ]
    },
    {
     "name": "stdout",
     "output_type": "stream",
     "text": [
      "Downloading http://ufldl.stanford.edu/housenumbers/test_32x32.mat to ./data\\test_32x32.mat\n"
     ]
    },
    {
     "name": "stderr",
     "output_type": "stream",
     "text": [
      "100%|█████████████████████████████████████████████████████████████████| 64275384/64275384 [00:39<00:00, 1607292.28it/s]\n"
     ]
    }
   ],
   "source": [
    "transform = transforms.Compose([\n",
    "    transforms.ToTensor(),\n",
    "    transforms.Normalize((0.5, 0.5, 0.5), (0.5, 0.5, 0.5))\n",
    "])\n",
    "\n",
    "batch_size = 4\n",
    "trainset = torchvision.datasets.SVHN(root='./data', split='train',\n",
    "                                     download=True, transform=transform)\n",
    "trainloader = torch.utils.data.DataLoader(trainset, batch_size=batch_size,\n",
    "                                          shuffle=True, num_workers=2)\n",
    "\n",
    "testset = torchvision.datasets.SVHN(root='./data', split='test',\n",
    "                                    download=True, transform=transform)\n",
    "testloader = torch.utils.data.DataLoader(testset, batch_size=batch_size,\n",
    "                                         shuffle=False, num_workers=2)\n",
    "\n",
    "classes = tuple(str(i) for i in range(10))\n"
   ]
  },
  {
   "cell_type": "code",
   "execution_count": 18,
   "id": "40b099d3",
   "metadata": {},
   "outputs": [
    {
     "data": {
      "image/png": "[encoded data removed]",
      "text/plain": [
       "<Figure size 640x480 with 1 Axes>"
      ]
     },
     "metadata": {},
     "output_type": "display_data"
    },
    {
     "name": "stdout",
     "output_type": "stream",
     "text": [
      "5     6     1     2    \n"
     ]
    }
   ],
   "source": [
    "import matplotlib.pyplot as plt\n",
    "import numpy as np\n",
    "\n",
    "# Function to show an image\n",
    "def imshow(img):\n",
    "    img = img / 2 + 0.5  # unnormalize\n",
    "    npimg = img.numpy()\n",
    "    plt.imshow(np.transpose(npimg, (1, 2, 0)))\n",
    "    plt.show()\n",
    "\n",
    "# Get some random training images\n",
    "dataiter = iter(trainloader)\n",
    "images, labels = next(dataiter)\n",
    "\n",
    "# Show images\n",
    "imshow(torchvision.utils.make_grid(images))\n",
    "\n",
    "# Print labels\n",
    "batch_size = len(labels)  # Adjusting batch_size to the actual number of labels\n",
    "print(' '.join(f'{classes[labels[j]]:5s}' for j in range(batch_size)))\n"
   ]
  },
  {
   "cell_type": "code",
   "execution_count": 19,
   "id": "beec9d3e",
   "metadata": {},
   "outputs": [],
   "source": [
    "import torch.nn as nn\n",
    "import torch.nn.functional as F\n",
    "\n",
    "class Net(nn.Module):\n",
    "    def __init__(self):\n",
    "        super().__init__()\n",
    "        self.conv1 = nn.Conv2d(3, 6, 5)\n",
    "        self.pool = nn.MaxPool2d(2, 2)\n",
    "        self.conv2 = nn.Conv2d(6, 16, 5)\n",
    "        self.fc1 = nn.Linear(16 * 5 * 5, 120)\n",
    "        self.fc2 = nn.Linear(120, 84)\n",
    "        self.fc3 = nn.Linear(84, 10)\n",
    "\n",
    "    def forward(self, x):\n",
    "        x = self.pool(F.relu(self.conv1(x)))\n",
    "        x = self.pool(F.relu(self.conv2(x)))\n",
    "        x = torch.flatten(x, 1)  # flatten all dimensions except batch\n",
    "        x = F.relu(self.fc1(x))\n",
    "        x = F.relu(self.fc2(x))\n",
    "        x = self.fc3(x)\n",
    "        return x\n",
    "\n",
    "net = Net()\n"
   ]
  },
  {
   "cell_type": "code",
   "execution_count": 20,
   "id": "48c1295b",
   "metadata": {},
   "outputs": [],
   "source": [
    "import torch.optim as optim\n",
    "criterion = nn.CrossEntropyLoss()\n",
    "optimizer = optim.SGD(net.parameters(), lr=0.001, momentum=0.9)\n"
   ]
  },
  {
   "cell_type": "markdown",
   "id": "ac8f9b08",
   "metadata": {},
   "source": [
    "# Train The network\n"
   ]
  },
  {
   "cell_type": "code",
   "execution_count": 21,
   "id": "5c0e9460",
   "metadata": {
    "scrolled": true
   },
   "outputs": [
    {
     "name": "stdout",
     "output_type": "stream",
     "text": [
      "[1,  2000] loss: 2.250\n",
      "[1,  4000] loss: 2.225\n",
      "[1,  6000] loss: 1.956\n",
      "[1,  8000] loss: 1.220\n",
      "[1, 10000] loss: 0.833\n",
      "[1, 12000] loss: 0.726\n",
      "[1, 14000] loss: 0.636\n",
      "[1, 16000] loss: 0.601\n",
      "[1, 18000] loss: 0.544\n",
      "[2,  2000] loss: 0.519\n",
      "[2,  4000] loss: 0.503\n",
      "[2,  6000] loss: 0.487\n",
      "[2,  8000] loss: 0.484\n",
      "[2, 10000] loss: 0.472\n",
      "[2, 12000] loss: 0.455\n",
      "[2, 14000] loss: 0.447\n",
      "[2, 16000] loss: 0.449\n",
      "[2, 18000] loss: 0.415\n",
      "Finished Training\n"
     ]
    }
   ],
   "source": [
    "for epoch in range(2):  # loop over the dataset multiple times\n",
    "    running_loss = 0.0\n",
    "    for i, data in enumerate(trainloader, 0):\n",
    "        # get the inputs; data is a list of [inputs, labels]\n",
    "        inputs, labels = data\n",
    "        # zero the parameter gradients\n",
    "        optimizer.zero_grad()\n",
    "        # forward + backward + optimize\n",
    "        outputs = net(inputs)\n",
    "        loss = criterion(outputs, labels)\n",
    "        loss.backward()\n",
    "        optimizer.step()\n",
    "        # print statistics\n",
    "        running_loss += loss.item()\n",
    "        if i % 2000 == 1999:  # print every 2000 mini-batches\n",
    "            print(f'[{epoch + 1}, {i + 1:5d}] loss: {running_loss / 2000:.3f}')\n",
    "            running_loss = 0.0\n",
    "\n",
    "print('Finished Training')\n",
    "\n",
    "\n",
    "\n",
    "\n"
   ]
  },
  {
   "cell_type": "code",
   "execution_count": 24,
   "id": "253ab2e1",
   "metadata": {},
   "outputs": [],
   "source": [
    "PATH = './svhn_net.pth'\n",
    "torch.save(net.state_dict(), PATH)"
   ]
  },
  {
   "cell_type": "markdown",
   "id": "c9f3d344",
   "metadata": {},
   "source": [
    "# Test the network on the test data"
   ]
  },
  {
   "cell_type": "code",
   "execution_count": 23,
   "id": "24de787d",
   "metadata": {},
   "outputs": [
    {
     "data": {
      "image/png": "[encoded data removed]",
      "text/plain": [
       "<Figure size 640x480 with 1 Axes>"
      ]
     },
     "metadata": {},
     "output_type": "display_data"
    },
    {
     "name": "stdout",
     "output_type": "stream",
     "text": [
      "GroundTruth:  5     2     1     0    \n"
     ]
    }
   ],
   "source": [
    "dataiter = iter(testloader)\n",
    "images, labels = next(dataiter)\n",
    "# print images\n",
    "imshow(torchvision.utils.make_grid(images))\n",
    "print('GroundTruth: ', ' '.join(f'{classes[labels[j]]:5s}' for j in range(len(labels))))\n"
   ]
  },
  {
   "cell_type": "code",
   "execution_count": 25,
   "id": "3c3f51d7",
   "metadata": {},
   "outputs": [
    {
     "data": {
      "text/plain": [
       "<All keys matched successfully>"
      ]
     },
     "execution_count": 25,
     "metadata": {},
     "output_type": "execute_result"
    }
   ],
   "source": [
    "net = Net()\n",
    "net.load_state_dict(torch.load(PATH))"
   ]
  },
  {
   "cell_type": "code",
   "execution_count": 26,
   "id": "f4cba59c",
   "metadata": {},
   "outputs": [],
   "source": [
    "outputs = net(images)"
   ]
  },
  {
   "cell_type": "code",
   "execution_count": 27,
   "id": "5718c6be",
   "metadata": {},
   "outputs": [
    {
     "name": "stdout",
     "output_type": "stream",
     "text": [
      "Predicted:  5     2     1     0    \n"
     ]
    }
   ],
   "source": [
    "_, predicted = torch.max(outputs, 1)\n",
    "print('Predicted: ', ' '.join(f'{classes[predicted[j]]:5s}'\n",
    " for j in range(4)))"
   ]
  },
  {
   "cell_type": "code",
   "execution_count": 28,
   "id": "8c5c6f03",
   "metadata": {},
   "outputs": [
    {
     "name": "stdout",
     "output_type": "stream",
     "text": [
      "Accuracy of the network on the 10000 test images: 86.18239090350338%\n"
     ]
    }
   ],
   "source": [
    "correct = 0\n",
    "total = 0\n",
    "\n",
    "# Since we're not training, we don't need to calculate the gradients for ou\n",
    "with torch.no_grad():\n",
    "    for data in testloader:\n",
    "        images, labels = data\n",
    "\n",
    "        # Calculate outputs by running images through the network\n",
    "        outputs = net(images)\n",
    "\n",
    "        # The class with the highest energy is what we choose as prediction\n",
    "        _, predicted = torch.max(outputs.data, 1)\n",
    "\n",
    "        total += labels.size(0)\n",
    "        correct += (predicted == labels).sum().item()\n",
    "\n",
    "print(f'Accuracy of the network on the 10000 test images: {100 * correct / total}%')\n"
   ]
  },
  {
   "cell_type": "code",
   "execution_count": 29,
   "id": "f63d7639",
   "metadata": {},
   "outputs": [
    {
     "name": "stdout",
     "output_type": "stream",
     "text": [
      "Accuracy for class: 0     is 83.3 %\n",
      "Accuracy for class: 1     is 92.2 %\n",
      "Accuracy for class: 2     is 89.6 %\n",
      "Accuracy for class: 3     is 81.8 %\n",
      "Accuracy for class: 4     is 86.2 %\n",
      "Accuracy for class: 5     is 87.9 %\n",
      "Accuracy for class: 6     is 78.5 %\n",
      "Accuracy for class: 7     is 86.3 %\n",
      "Accuracy for class: 8     is 72.5 %\n",
      "Accuracy for class: 9     is 90.2 %\n"
     ]
    }
   ],
   "source": [
    "correct_pred = {classname: 0 for classname in classes}\n",
    "total_pred = {classname: 0 for classname in classes}\n",
    "\n",
    "# Again, no gradients needed\n",
    "with torch.no_grad():\n",
    "    for data in testloader:\n",
    "        images, labels = data\n",
    "        outputs = net(images)\n",
    "        _, predictions = torch.max(outputs, 1)\n",
    "\n",
    "        # Collect the correct predictions for each class\n",
    "        for label, prediction in zip(labels, predictions):\n",
    "            if label == prediction:\n",
    "                correct_pred[classes[label]] += 1\n",
    "            total_pred[classes[label]] += 1\n",
    "\n",
    "# Print accuracy for each class\n",
    "for classname, correct_count in correct_pred.items():\n",
    "    accuracy = 100 * float(correct_count) / total_pred[classname]\n",
    "    print(f'Accuracy for class: {classname:5s} is {accuracy:.1f} %')\n"
   ]
  },
  {
   "cell_type": "code",
   "execution_count": null,
   "id": "bfa68b33",
   "metadata": {},
   "outputs": [],
   "source": []
  },
  {
   "cell_type": "code",
   "execution_count": null,
   "id": "f3ca866f",
   "metadata": {},
   "outputs": [],
   "source": []
  },
  {
   "cell_type": "code",
   "execution_count": null,
   "id": "00bc2442",
   "metadata": {},
   "outputs": [],
   "source": []
  },
  {
   "cell_type": "code",
   "execution_count": null,
   "id": "5b5f6007",
   "metadata": {},
   "outputs": [],
   "source": []
  },
  {
   "cell_type": "code",
   "execution_count": null,
   "id": "2b96c38b",
   "metadata": {},
   "outputs": [],
   "source": []
  },
  {
   "cell_type": "code",
   "execution_count": null,
   "id": "41bdd26c",
   "metadata": {},
   "outputs": [],
   "source": []
  },
  {
   "cell_type": "code",
   "execution_count": null,
   "id": "8737b1b6",
   "metadata": {},
   "outputs": [],
   "source": []
  }
 ],
 "metadata": {
  "kernelspec": {
   "display_name": "Python 3 (ipykernel)",
   "language": "python",
   "name": "python3"
  },
  "language_info": {
   "codemirror_mode": {
    "name": "ipython",
    "version": 3
   },
   "file_extension": ".py",
   "mimetype": "text/x-python",
   "name": "python",
   "nbconvert_exporter": "python",
   "pygments_lexer": "ipython3",
   "version": "3.11.4"
  }
 },
 "nbformat": 4,
 "nbformat_minor": 5
}
