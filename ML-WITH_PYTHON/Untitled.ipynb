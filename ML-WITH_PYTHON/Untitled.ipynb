{
 "cells": [
  {
   "cell_type": "code",
   "execution_count": 5,
   "id": "ab197a83",
   "metadata": {},
   "outputs": [],
   "source": [
    "import pymongo\n",
    "mongo=\"mongodb://localhost:27017\"\n",
    "c=pymongo.MongoClient(mongo)"
   ]
  },
  {
   "cell_type": "code",
   "execution_count": 6,
   "id": "5f17022a",
   "metadata": {},
   "outputs": [],
   "source": [
    "db=c[\"Sampledb\"]\n",
    "collection=db[\"Sampletable\"]"
   ]
  },
  {
   "cell_type": "code",
   "execution_count": 13,
   "id": "151d0953",
   "metadata": {},
   "outputs": [
    {
     "data": {
      "text/plain": [
       "<pymongo.results.InsertManyResult at 0x150f7775960>"
      ]
     },
     "execution_count": 13,
     "metadata": {},
     "output_type": "execute_result"
    }
   ],
   "source": [
    "doc=[{\"name\":\"mongo\",\"session\":4,\"status\":\"completed\",\"rating\":5}]\n",
    "collection.insert_many(doc)"
   ]
  },
  {
   "cell_type": "code",
   "execution_count": 15,
   "id": "af814839",
   "metadata": {},
   "outputs": [
    {
     "name": "stdout",
     "output_type": "stream",
     "text": [
      "{'_id': ObjectId('6515260ce96e3353c59b19fe'), 'name': 'mongo'}\n",
      "{'_id': ObjectId('651526bfe96e3353c59b19ff'), 'name': 'mongo', 'session': 4, 'status': 'completed', 'rating': 5}\n"
     ]
    }
   ],
   "source": [
    "r=collection.find({})\n",
    "for i in r:\n",
    "    print(i)"
   ]
  },
  {
   "cell_type": "code",
   "execution_count": null,
   "id": "9f954b1f",
   "metadata": {},
   "outputs": [],
   "source": []
  }
 ],
 "metadata": {
  "kernelspec": {
   "display_name": "Python 3 (ipykernel)",
   "language": "python",
   "name": "python3"
  },
  "language_info": {
   "codemirror_mode": {
    "name": "ipython",
    "version": 3
   },
   "file_extension": ".py",
   "mimetype": "text/x-python",
   "name": "python",
   "nbconvert_exporter": "python",
   "pygments_lexer": "ipython3",
   "version": "3.11.4"
  }
 },
 "nbformat": 4,
 "nbformat_minor": 5
}
