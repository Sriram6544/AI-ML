{
 "cells": [
  {
   "cell_type": "markdown",
   "id": "2281bad9",
   "metadata": {},
   "source": [
    "# 1.Write a python function that copies a file reading and writing up to 50 character at a time"
   ]
  },
  {
   "cell_type": "code",
   "execution_count": 5,
   "id": "01840093",
   "metadata": {},
   "outputs": [
    {
     "name": "stdout",
     "output_type": "stream",
     "text": [
      "Virat Kohli is an Indian cricketer who plays for I\n"
     ]
    }
   ],
   "source": [
    "def copy_file():\n",
    "    with open(\"sampledemo.txt\",\"r\") as original:\n",
    "        data_to_copy=original.read(50)\n",
    "        \n",
    "    with open(\"sampledemo2.txt\",\"w\") as cp:\n",
    "        cp.write(data_to_copy)\n",
    "    \n",
    "    with open(\"sampledemo2.txt\",\"r\") as cp:\n",
    "        data=cp.read()\n",
    "        print(data)\n",
    "copy_file()"
   ]
  },
  {
   "cell_type": "markdown",
   "id": "0330f95f",
   "metadata": {},
   "source": [
    "# 2.print all the numbers in the text file and print the number of blank spaces in that file."
   ]
  },
  {
   "cell_type": "code",
   "execution_count": 23,
   "id": "5bc98fba",
   "metadata": {},
   "outputs": [
    {
     "name": "stdout",
     "output_type": "stream",
     "text": [
      "The numbers in the file are:\n",
      " [1, 2, 5, 5, 0, 5, 0, 2, 2, 2, 1, 0, 3, 1, 2, 4, 4, 3, 0, 0, 3, 3, 0, 0, 0, 3, 1, 1, 0, 2, 4, 0, 2, 4, 9, 0, 2, 5, 1, 9, 9, 2, 9, 2]\n",
      "The count of white spaces in file is: 344\n"
     ]
    }
   ],
   "source": [
    "with open(\"sampledemo3.txt\",\"r\") as numbers:\n",
    "    data_n=numbers.read()\n",
    "    num_list=[]\n",
    "    spaces_count=0\n",
    "    for i in data_n:\n",
    "        j=i.split()\n",
    "        num=i.isdigit()\n",
    "        if  num:\n",
    "            num_list.append(int(i))\n",
    "    for k in data_n:\n",
    "        if k==\" \":\n",
    "            spaces_count+=1\n",
    "    print(\"The numbers in the file are:\\n\",num_list)\n",
    "    print(\"The count of white spaces in file is:\",spaces_count)\n",
    "   \n",
    "    "
   ]
  },
  {
   "cell_type": "markdown",
   "id": "a583fc7a",
   "metadata": {},
   "source": [
    "# 3.Write a function called sed that takes as arguments a pattern string a replacement string and two filesnames; it should read the first file and write the contents into the second file (creating ii if necessary). If the pattern string appears anywhere in the file, it should be replaced with the replacemenet string. If an error occurs while opening, reading,writing,or closing files, your program should catch the exception. print an error message, and exit.\n"
   ]
  },
  {
   "cell_type": "code",
   "execution_count": 3,
   "id": "e2515958",
   "metadata": {},
   "outputs": [],
   "source": [
    "def sed(pattern, replacement, first_file, second_file):\n",
    "    try:\n",
    "        \n",
    "        with open(first_file, 'r') as first:\n",
    "          \n",
    "            data = first.read()\n",
    "\n",
    "        \n",
    "        replacement_data = data.replace(pattern, replacement)\n",
    "\n",
    "       \n",
    "        with open(second_file, 'w') as second:\n",
    "           \n",
    "             second.write(replacement_data)\n",
    "\n",
    "        \n",
    "\n",
    "    except FileNotFoundError:\n",
    "        print(first_file,\"NO such file or directory\")\n",
    "    except PermissionError:\n",
    "        print(f\"Error: Permission denied when accessing '{first_file}' or '{second_file}'.\")\n",
    "    except Exception as e:\n",
    "        print(f\"An error occurred: {str(e)}\")\n",
    "\n",
    "\n",
    "pattern =\"trees\"\n",
    "replacement = \"factories\"\n",
    "first_file = \"sampledemo4.txt\"\n",
    "second_file = \"sampledemo5.txt\"\n",
    "\n",
    "sed(pattern, replacement, first_file, second_file)\n",
    "\n",
    "    "
   ]
  },
  {
   "cell_type": "markdown",
   "id": "54570912",
   "metadata": {},
   "source": [
    "# 4.Log File Analysis: You have a log file containing records of user activities on a website.Each line in the file represents a log entry  with details like timestamp, user ID, and action performed. Your task is to analyze this lof file.\n"
   ]
  },
  {
   "cell_type": "code",
   "execution_count": 7,
   "id": "3ccc981d",
   "metadata": {
    "scrolled": true
   },
   "outputs": [
    {
     "name": "stdout",
     "output_type": "stream",
     "text": [
      "Most common action: Installing 660  times)\n"
     ]
    }
   ],
   "source": [
    "#a. write python code to read the log file and extrct specific information, such as the number of unique users or the most common action. \n",
    "\n",
    "from collections import Counter\n",
    "def analyze_log(log_file_path):   \n",
    "    \n",
    "    action_counts = Counter()\n",
    "    try:\n",
    "        with open(log_file_path, 'r') as file:\n",
    "            for line in file:\n",
    "               \n",
    "                parts = line.split()\n",
    "                if len(parts) >= 3:\n",
    "                    \n",
    "                    timestamp,  action = parts[0],  parts[2]\n",
    "                    \n",
    "                \n",
    "                    action_counts[action] += 1\n",
    "                   \n",
    "\n",
    "        \n",
    "        \n",
    "        most_common_action, most_common_count = action_counts.most_common(1)[0]\n",
    "        print(f\"Most common action:\",most_common_action,most_common_count,\" times)\")\n",
    "\n",
    "    except FileNotFoundError:\n",
    "        print(f\"Log file not found:\",log_file_path)\n",
    "    except Exception as e:\n",
    "        print(f\"An error occurred:\",str(e))\n",
    "\n",
    "\n",
    "log_file_path = 'C:/Users/eluri/eclipse/java-2023-06/eclipse/configuration/org.eclipse.oomph.setup/setup.log'\n",
    "analyze_log(log_file_path)\n",
    "\n"
   ]
  },
  {
   "cell_type": "code",
   "execution_count": null,
   "id": "6e9670d2",
   "metadata": {},
   "outputs": [],
   "source": [
    "#b. How would you handle large log files effeciently  without loading the entire file into memory.\n",
    "from collections import Counter\n",
    "def analyze_log(log_file_path):   \n",
    "    \n",
    "    action_counts = Counter()\n",
    "    try:\n",
    "        with open(log_file_path, 'r') as file:\n",
    "            for line in file:\n",
    "               \n",
    "                parts = line.split()\n",
    "                if len(parts) >= 3:\n",
    "                    \n",
    "                    timestamp,  action = parts[0],  parts[2]\n",
    "                    \n",
    "                \n",
    "                    action_counts[action] += 1\n",
    "                   \n",
    "\n",
    "        \n",
    "        \n",
    "        most_common_action, most_common_count = action_counts.most_common(1)[0]\n",
    "        print(f\"Most common action:\",most_common_action,most_common_count,\" times)\")\n",
    "\n",
    "    except FileNotFoundError:\n",
    "        print(f\"Log file not found:\",log_file_path)\n",
    "    except Exception as e:\n",
    "        print(f\"An error occurred:\",str(e))\n",
    "\n",
    "\n",
    "log_file_path = 'C:/Users/eluri/eclipse/java-2023-06/eclipse/configuration/org.eclipse.oomph.setup/setup.log'\n",
    "analyze_log(log_file_path)"
   ]
  },
  {
   "cell_type": "markdown",
   "id": "f2ebccff",
   "metadata": {},
   "source": [
    "# 5. Text File Search And Replace : You have a file with a large amount of text,and you want to search for specific words or phrases and replace them within a text file."
   ]
  },
  {
   "cell_type": "code",
   "execution_count": 11,
   "id": "e78511c5",
   "metadata": {},
   "outputs": [],
   "source": [
    "#a.Write python code to search for and replace text within a text file.\n",
    "def replace_text(search_text , replaced_text, first_file, second_file):\n",
    "\n",
    "        \n",
    "        with open(first_file, 'r') as first:\n",
    "          \n",
    "            data = first.read()\n",
    "\n",
    "        \n",
    "        replacement_data = data.replace(search_text , replaced_text)\n",
    "\n",
    "       \n",
    "        with open(second_file, 'w') as second:\n",
    "           \n",
    "             second.write(replacement_data)\n",
    "\n",
    "        \n",
    "\n",
    "\n",
    "\n",
    "search_text =\"trees\"\n",
    "replaced_text =\"factories\"\n",
    "first_file = \"sampledemo4.txt\"\n",
    "second_file = \"sampledemo5.txt\"\n",
    "\n",
    "replace_text(search_text, replaced_text, first_file, second_file)"
   ]
  },
  {
   "cell_type": "code",
   "execution_count": 20,
   "id": "ac95872a",
   "metadata": {},
   "outputs": [
    {
     "name": "stdout",
     "output_type": "stream",
     "text": [
      "hi\n",
      "hello evereone thellos is python replacemnet text file and thellos is sample and textfile no 10 and every prevous number i.e 5 files are added/\n",
      "is\n",
      "hi evereone thand and python replacemnet text file and thand and sample and textfile no 10 and every prevous number i.e 5 files are added/\n",
      "this\n",
      "hi evereone that is python replacemnet text file and that is sample and textfile no 10 and every prevous number i.e 5 files are added/\n",
      "134\n",
      "checkout the file was replaced 2nd file\n"
     ]
    }
   ],
   "source": [
    "#b.How would you handle cases where you ned to perform multiple replacements in a single pass?\n",
    "def fun_replace(first,second,multiple_replacements):\n",
    "    with open(first,\"r\") as f:\n",
    "    \n",
    "    \n",
    "        r=f.read()\n",
    "        \n",
    "    \n",
    "      \n",
    "            \n",
    "        for search in multiple_replacements.keys():\n",
    "            print(search)\n",
    "            r_=multiple_replacements[search]\n",
    "              \n",
    "            replaced=r.replace(search,r_)\n",
    "            print(replaced)\n",
    "                \n",
    "        with open(second,\"w\") as s: \n",
    "            s_=s.write(replaced)\n",
    "            print(s_)\n",
    "            \n",
    "        \n",
    "\n",
    "    \n",
    "        \n",
    "multiple_replacements={\"hi\":\"hello\",\"is\":\"and\", \"this\":\"that\"}\n",
    "first=\"m1.txt\"\n",
    "second=\"m2.txt\"\n",
    "\n",
    "fun_replace(first,second,multiple_replacements)"
   ]
  },
  {
   "cell_type": "markdown",
   "id": "d1fc50aa",
   "metadata": {},
   "source": [
    "# 6.Write a python script that concatenates the contents of multiple text files into a single output file. allow the user to specify the input files and the output file."
   ]
  },
  {
   "cell_type": "code",
   "execution_count": null,
   "id": "9fce1847",
   "metadata": {},
   "outputs": [],
   "source": [
    "def concatenating_user_input_files(input_files, output_file):\n",
    "    try:\n",
    "        with open(output_file, 'w') as output:\n",
    "            for input_file in input_files:\n",
    "                with open(input_file, 'r') as file:\n",
    "                    output.write(file.read())\n",
    "        print(\"\")\n",
    "    except FileNotFoundError:\n",
    "        print(\"NO such file or directory.\")\n",
    "    except Exception as e:\n",
    "        print(f\"An error occurred: {str(e)}\")\n",
    "\n",
    "def user_input_files():\n",
    "    input_files = []\n",
    "    for i in range(3):\n",
    "        user_input=input()\n",
    "        input_files.append(user_input)\n",
    "\n",
    "    if not input_files:\n",
    "        print(\"No input files specified. Exiting.\")\n",
    "        return\n",
    "\n",
    "    output_file = input_files[2]\n",
    "    input_files.pop()\n",
    " \n",
    "    concatenating_user_input_files(input_files, output_file)\n",
    "\n",
    "\n",
    "user_input_files()"
   ]
  },
  {
   "cell_type": "markdown",
   "id": "17a6123d",
   "metadata": {},
   "source": [
    "# 7.You are given a text file named input.txt containing a list of words, one word per line Your task is to create a Python program that reads the contents of input.txt, process the wrods, and writes the result to an output file named output.txt.\n",
    "\n",
    "a.The program should perform the following operations:    \n",
    "  \n",
    "  i. read the words from input.txt\n",
    "  ii.for each word in the input file calculate the length of the word and store it in a dictionary where the word is key and the length is the value.\n",
    "  iii.write the word-length dicitonary to output.txt in the follwoing format\n",
    "  iv.close both inouot and output files properly.\n",
    "  v.write python code to accomplish this task. Ensure proper error handling for file operation."
   ]
  },
  {
   "cell_type": "code",
   "execution_count": 4,
   "id": "b2ad7e4b",
   "metadata": {},
   "outputs": [
    {
     "name": "stdout",
     "output_type": "stream",
     "text": [
      "Word lengths written to sampledemo6.txt successfully.\n"
     ]
    }
   ],
   "source": [
    "def length_of_words(input_file,output_file):\n",
    "    try:\n",
    "        length_of_words_dict = {}\n",
    "\n",
    "        \n",
    "        with open(input_file, 'r') as input_f:\n",
    "            for line in input_f:\n",
    "                word = line.strip()\n",
    "                length = len(word)\n",
    "                length_of_words_dict[word] = length\n",
    "\n",
    "        \n",
    "        with open(output_file, 'w') as output_f:\n",
    "            for word, length in length_of_words_dict.items():\n",
    "                output_f.write(f\"{word}: length {length}\\n\")\n",
    "\n",
    "       \n",
    "    except FileNotFoundError:\n",
    "        print(f\"NO such File or directory\")\n",
    "    except Exception as e:\n",
    "        print(f\"An error occurred: {str(e)}\")\n",
    "\n",
    "\n",
    "input_file = 'sampledemo2.txt'\n",
    "output_file = 'sampledemo6.txt'\n",
    "length_of_words(input_file,output_file)"
   ]
  },
  {
   "cell_type": "markdown",
   "id": "fc237d85",
   "metadata": {},
   "source": [
    "# 8. Assume that you are developing a student gradebook system for a school. The system should allow teachers to input student grades for various subjects, store the data in files. and provide students with the ability to view their grades. Design a Python program that accomplishes the following tasks:\n",
    "    \n",
    "    \n",
    "\n",
    "i. Teachers should be able to input grades for students in different subjects\n",
    "\n",
    "ii. Store the student grade data in separate text files for each subject. \n",
    "iii. Students should be able to view their grades for each subject.\n",
    "\n",
    "iv. Implement error handling for file operations, such as file not found or\n",
    "\n",
    "permission issues."
   ]
  },
  {
   "cell_type": "code",
   "execution_count": null,
   "id": "09180341",
   "metadata": {},
   "outputs": [
    {
     "name": "stdout",
     "output_type": "stream",
     "text": [
      "Gradebook Menu:\n",
      "1. Input Grades\n",
      "2. View Grades\n",
      "3. Exit\n",
      "Enter your choice (1/2/3): 1\n",
      "Enter Student ID: 2545\n",
      "Enter Subject: python\n",
      "Enter Grade: a\n",
      "Gradebook Menu:\n",
      "1. Input Grades\n",
      "2. View Grades\n",
      "3. Exit\n"
     ]
    }
   ],
   "source": [
    "import os\n",
    "\n",
    "\n",
    "def input_grades(student_id, subject, grade):\n",
    "    filename = f\"{subject}_grades.txt\"\n",
    "    try:\n",
    "        with open(filename, 'a') as file:\n",
    "            file.write(f\"{student_id}: {grade}\\n\")\n",
    "        \n",
    "    except FileNotFoundError:\n",
    "        print(\"no such file or directory\")\n",
    "    except PermissionError:\n",
    "        print(f\"Error: Permission denied to write to '{filename}'.\")\n",
    "    except Exception as e:\n",
    "        print(f\"An error occurred: {str(e)}\")\n",
    "\n",
    "\n",
    "def view_grades(student_id, subject):\n",
    "    filename = f\"{subject}_grades.txt\"\n",
    "    try:\n",
    "        with open(filename, 'r') as file:\n",
    "            lines = file.readlines()\n",
    "            student_grades = [line.strip() for line in lines if line.startswith(f\"{student_id}: \")]\n",
    "            if student_grades:\n",
    "                print(f\"Grades for {student_id} in {subject}:\")\n",
    "                for grade in student_grades:\n",
    "                    print(grade)\n",
    "            else:\n",
    "                print(f\"No grades found for {student_id} in {subject}.\")\n",
    "    except FileNotFoundError:\n",
    "        print(f\"Error: File '{filename}' not found.\")\n",
    "    except PermissionError:\n",
    "        print(f\"Error: Permission denied to read '{filename}'.\")\n",
    "    except Exception as e:\n",
    "        print(f\"An error occurred: {str(e)}\")\n",
    "\n",
    "\n",
    "while True:\n",
    "    print(\"Gradebook Menu:\")\n",
    "    print(\"1. Input Grades\")\n",
    "    print(\"2. View Grades\")\n",
    "    print(\"3. Exit\")\n",
    "    choice = input(\"Enter your choice (1/2/3): \")\n",
    "\n",
    "    if choice == \"1\":\n",
    "        student_id = input(\"Enter Student ID: \")\n",
    "        subject = input(\"Enter Subject: \")\n",
    "        grade = input(\"Enter Grade: \")\n",
    "        input_grades(student_id, subject, grade)\n",
    "    elif choice == \"2\":\n",
    "        student_id = input(\"Enter Student ID: \")\n",
    "        subject = input(\"Enter Subject: \")\n",
    "        view_grades(student_id, subject)\n",
    "    elif choice == \"3\":\n",
    "        print(\"Exiting.\")\n",
    "        break"
   ]
  },
  {
   "cell_type": "code",
   "execution_count": null,
   "id": "e5274989",
   "metadata": {},
   "outputs": [],
   "source": []
  }
 ],
 "metadata": {
  "kernelspec": {
   "display_name": "Python 3 (ipykernel)",
   "language": "python",
   "name": "python3"
  },
  "language_info": {
   "codemirror_mode": {
    "name": "ipython",
    "version": 3
   },
   "file_extension": ".py",
   "mimetype": "text/x-python",
   "name": "python",
   "nbconvert_exporter": "python",
   "pygments_lexer": "ipython3",
   "version": "3.11.4"
  }
 },
 "nbformat": 4,
 "nbformat_minor": 5
}
