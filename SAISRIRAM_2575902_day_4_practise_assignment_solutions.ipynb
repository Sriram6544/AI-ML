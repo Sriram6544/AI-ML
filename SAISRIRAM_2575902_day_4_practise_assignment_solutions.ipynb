{
 "cells": [
  {
   "cell_type": "markdown",
   "id": "50596d0b",
   "metadata": {},
   "source": [
    "# 1.write a python program with exception handling to input marks for five subjects physcis,chemistry,Biology,Mathematics,and computer. Calculate the percentage and grade according to the following.\n",
    "\n",
    "i)  percentage >=90% Grade A\n",
    "ii) percentage >=80% Grade B\n",
    "iii) percentage >=70% Grade c\n",
    "iv) percentage >=60% Grade D\n",
    "v) percentage >=40% Grade E\n",
    "vi) percentage <40% Grade F"
   ]
  },
  {
   "cell_type": "code",
   "execution_count": 1,
   "id": "02d0bec2",
   "metadata": {},
   "outputs": [
    {
     "name": "stdout",
     "output_type": "stream",
     "text": [
      "Enter Physics score:76\n",
      "Enter chemistry score:96\n",
      "Enter biology score:76\n",
      "Enter mathematics score:88\n",
      "Enter computer score:90\n",
      "final_score:  426\n",
      "Percentage:  85.2 %\n",
      "grade:  B\n"
     ]
    }
   ],
   "source": [
    "def calculate_percentage(physics,chemistry,biology,mathematics,computer):\n",
    "    final_score = physics + chemistry + biology + mathematics + computer\n",
    "    percentage = (final_score / 500) * 100\n",
    "\n",
    "   \n",
    "    if percentage >= 90:\n",
    "        grade = \"A\"\n",
    "    elif percentage >= 80:\n",
    "        grade = \"B\"\n",
    "    elif percentage >= 70:\n",
    "        grade = \"C\"\n",
    "    elif percentage >= 60:\n",
    "        grade = \"D\"\n",
    "    elif percentage >= 40:\n",
    "        grade = \"E\"\n",
    "    else:\n",
    "        grade = \"F\"\n",
    "\n",
    " \n",
    "    print(\"final_score: \",final_score)\n",
    "    print(\"Percentage: \",percentage,\"%\")\n",
    "    print(\"grade: \",grade)\n",
    "    \n",
    "try:\n",
    "   \n",
    "    physics = int(input(\"Enter Physics score:\"))\n",
    "    chemistry = int(input(\"Enter chemistry score:\"))\n",
    "    biology = int(input(\"Enter biology score:\"))\n",
    "    mathematics = int(input(\"Enter mathematics score:\"))\n",
    "    computer = int(input(\"Enter computer score:\"))\n",
    "    calculate_percentage(physics,chemistry,biology,mathematics,computer)\n",
    "\n",
    "except ValueError:\n",
    "    print(\"Invalid input. Please enter valid numerical marks for each subject.\")\n",
    "except Exception as e:\n",
    "    print(f\"An error occurred: {str(e)}\")\n"
   ]
  },
  {
   "cell_type": "markdown",
   "id": "d61b626f",
   "metadata": {},
   "source": [
    "# 2.Write a python program with Exception handling to input electricity unit charges and calculate the total electricity bill according to the given condition:\n",
    "    \n",
    "i)For the first 50 units Rs.0.50/unit\n",
    "ii)For the next 100 units Rs.0.75/unit\n",
    "iii)For the next 100 units Rs.1.20/unit\n",
    "iv)for units above 250 Rs.1.50/unit\n",
    "v)An additional surcharge of 20% is added to the bill."
   ]
  },
  {
   "cell_type": "code",
   "execution_count": 1,
   "id": "f86af49f",
   "metadata": {},
   "outputs": [
    {
     "name": "stdout",
     "output_type": "stream",
     "text": [
      "Enter the electricity units consumed: 251\n",
      "Electricity Bill: Rs. 265.80\n"
     ]
    }
   ],
   "source": [
    "try:\n",
    "   \n",
    "    units = float(input(\"Enter number of units: \"))\n",
    "\n",
    "   \n",
    "    bill = 0.0\n",
    "    surcharge = 0.0\n",
    "\n",
    "    if units <= 50:\n",
    "        bill = units * 0.50\n",
    "    elif units >50 and units<= 150:\n",
    "        bill = (50 * 0.50) + ((units - 50) * 0.75)\n",
    "    elif units>150 and units <= 250:\n",
    "        bill = (50 * 0.50) + (100 * 0.75) + ((units - 150) * 1.20)\n",
    "    else:\n",
    "        bill = (50 * 0.50) + (100 * 0.75) + (100 * 1.20) + ((units - 250) * 1.50)\n",
    "\n",
    "   \n",
    "    surcharge = 0.20 * bill\n",
    "\n",
    " \n",
    "    total_bill = bill + surcharge\n",
    "\n",
    " \n",
    "    print(f\"Electricity Bill: Rs.\",total_bill)\n",
    "\n",
    "except ValueError:\n",
    "    print(\"Invalid input. Please enter a valid number of electricity units.\")\n",
    "except Exception as e:\n",
    "    print(f\"An error occurred: {str(e)}\")\n"
   ]
  },
  {
   "cell_type": "markdown",
   "id": "ad1260ac",
   "metadata": {},
   "source": [
    "# 3.write a python program with Exception handling to input the week number and print the weekday."
   ]
  },
  {
   "cell_type": "code",
   "execution_count": 10,
   "id": "96ec6ccd",
   "metadata": {},
   "outputs": [
    {
     "name": "stdout",
     "output_type": "stream",
     "text": [
      "Enter a week number: 5\n",
      "The 6th day of week is Saturday\n"
     ]
    }
   ],
   "source": [
    "try:\n",
    "   \n",
    "    week_number = int(input(\"Enter a week number: \"))\n",
    "\n",
    "\n",
    "    weekdays = [\"Monday\", \"Tuesday\", \"Wednesday\", \"Thursday\", \"Friday\", \"Saturday\", \"Sunday\"]\n",
    "\n",
    "     \n",
    "    print(\"The {}th day of week is {}\".format(week_number+1,weekdays[week_number]))\n",
    "        \n",
    "except ValueError:\n",
    "    print(\"Invalid input. Please enter a number between 1-7.\")\n",
    "except Exception as e:\n",
    "    print(f\"An error occurred: {str(e)}\")\n"
   ]
  },
  {
   "cell_type": "markdown",
   "id": "c4cebd4c",
   "metadata": {},
   "source": [
    "# 4.Write a python program to implement word count using command line arguments.\n",
    "\n",
    "i)Create a text document \"apple.txt\"which contains text for wordcount.\n",
    "ii) create a wordcount program which calls the \"apple.txt\" document by opening the file.\n",
    "iii)if the word is present again in the \"apple.txt\", the wrodcount is inceremented by 1 unit all the words are counted in the document.\n",
    "iv)close the file.\n",
    "v)create a command,py program which imports the wordcount.py program\n",
    "vi)count the number of words using command line arguments.\n",
    "vii)print each word and its count.\n"
   ]
  },
  {
   "cell_type": "code",
   "execution_count": 21,
   "id": "9dc1d24b",
   "metadata": {},
   "outputs": [
    {
     "name": "stdout",
     "output_type": "stream",
     "text": [
      "C:\\ProgramData\\anaconda3\\Lib\\site-packages\\ipykernel_launcher.py\n",
      "-f\n",
      "C:\\Users\\eluri\\AppData\\Roaming\\jupyter\\runtime\\kernel-7b98f746-d0be-457d-9244-2a4c1a97a86e.json\n"
     ]
    }
   ],
   "source": [
    "#wordcount.py\n",
    "\n",
    "def count_words(file_name):\n",
    "    with open(file_name,\"r\") as a:\n",
    "        a_data=a.read()\n",
    "        a_list=a_data.lower().split()\n",
    "        a_list.sort()\n",
    "        frequent_words={}\n",
    "        for i in a_list :\n",
    "            if i.isalpha():\n",
    "                count=a_list.count(i)\n",
    "                frequent_words[i]=count\n",
    "\n",
    "    for x in frequent_words:\n",
    "        print(x,\":\",frequent_words[x])\n",
    "file_name=\"apple.txt\"\n",
    "count_words(file_name)\n",
    "\n",
    "#command.py\n",
    "\n",
    "import sys\n",
    "from wordcount import count_words\n",
    "if len(sys.argv) != 2:\n",
    "    print(\"Usage: python wordcount.py <filename>\")\n",
    "else:\n",
    "    filename = sys.argv[1]\n",
    "    word_count = count_words(filename)\n",
    "    if word_count:\n",
    "        for word, count in word_count.items():\n",
    "            print(f\"{word}: {count} occurrences\")\n",
    "        \n",
    "        \n",
    "#ClA \n",
    "\n",
    "python command.py  apple.txt\n"
   ]
  },
  {
   "cell_type": "markdown",
   "id": "5a17bf22",
   "metadata": {},
   "source": [
    "# 5.write a python program for find the most frequent words in a text read from a file.\n",
    "i)Initially open the textfile in read mode.\n",
    "ii)Make all the letters in the document into lowercase letters amd split the words in each line.\n",
    "iii)Get the words in sorted order.\n",
    "iv)Sort the words for finding the most frequent words in the file.\n",
    "v)print the words in file.\n"
   ]
  },
  {
   "cell_type": "code",
   "execution_count": 4,
   "id": "242bc7c3",
   "metadata": {},
   "outputs": [
    {
     "name": "stdout",
     "output_type": "stream",
     "text": [
      "the : 38\n",
      "and : 34\n",
      "of : 30\n",
      "a : 15\n",
      "we : 12\n",
      "to : 12\n",
      "in : 10\n",
      "with : 8\n",
      "as : 8\n",
      "like : 6\n"
     ]
    }
   ],
   "source": [
    "def count_words(file_name):\n",
    "    with open(file_name,\"r\") as a:\n",
    "        a_data=a.read()\n",
    "        a_list=a_data.lower().split()\n",
    "        \n",
    "        frequent_words={}\n",
    "        for i in a_list :\n",
    "            if i.isalpha():\n",
    "                count=a_list.count(i)\n",
    "                frequent_words[i]=count\n",
    "        sorted_words = sorted(frequent_words.items(), key=lambda x: x[1], reverse=True)\n",
    "\n",
    "    for x,y in sorted_words[:10]:\n",
    "        print(x,\":\",y)\n",
    "file_name=\"apple.txt\"\n",
    "count_words(file_name)"
   ]
  },
  {
   "cell_type": "markdown",
   "id": "7c2a18e2",
   "metadata": {},
   "source": [
    "# 6.File Processing with Command-Line Arguments Scenario You Are developing a command-line utility that processes text files. Users can specify input and output files path as command-line arguments.Your program should handle exceptions gracefully.\n",
    "i) Design a Python program That takes two command-line arguments: the input file path ans the output file path. Ensure that the program checks if both arguments are provided and that the input file exists.\n",
    "ii)Implement error handlings to deal with scenarios such as missing input files, invalid file paths, or permission issues when writing to the ouput file.\n",
    "iii)If an error occurs during file processing, display a user-freindly error meeaged, and exit the program with a non-zero exit code.\n",
    "iv) Write test cases that cover various scenarios, including providing valid and invalid file paths as command-line arguments."
   ]
  },
  {
   "cell_type": "code",
   "execution_count": 5,
   "id": "2ac4ef10",
   "metadata": {},
   "outputs": [],
   "source": [
    "import sys\n",
    "\n",
    "def cla_files(input_file_path, output_file_path):\n",
    "    try:\n",
    "        \n",
    "        if not input_file_path or not output_file_path:\n",
    "            raise ValueError(\"Enter valid number of files.\")\n",
    "        \n",
    "   \n",
    "        try:\n",
    "            with open(input_file_path, 'r') as input_file:\n",
    "                 data = input_file.read()\n",
    "        except FileNotFoundError:\n",
    "            raise FileNotFoundError(\"No such file or directory\")\n",
    "             processed_data = data.upper()  \n",
    "        \n",
    "      \n",
    "        with open(output_file_path, 'w') as output_file:\n",
    "            output_file.write(processed_data)\n",
    "        \n",
    "        print(\"cla_File processing completed\")\n",
    "\n",
    "    except Exception as e:\n",
    "        print(f\"Error: {e}\")\n",
    "        sys.exit(1)  \n",
    "\n",
    "\n",
    "    if len(sys.argv) != 3:\n",
    "        print(\"Usage: python program.py <input_file_path> <output_file_path>\")\n",
    "        sys.exit(1)\n",
    "\n",
    "    input_file_path = sys.argv[1]\n",
    "    output_file_path = sys.argv[2]\n",
    "   \n",
    "\n",
    "    cla_files(input_file_path, output_file_path)\n"
   ]
  },
  {
   "cell_type": "code",
   "execution_count": null,
   "id": "3e23f790",
   "metadata": {},
   "outputs": [],
   "source": []
  }
 ],
 "metadata": {
  "kernelspec": {
   "display_name": "Python 3 (ipykernel)",
   "language": "python",
   "name": "python3"
  },
  "language_info": {
   "codemirror_mode": {
    "name": "ipython",
    "version": 3
   },
   "file_extension": ".py",
   "mimetype": "text/x-python",
   "name": "python",
   "nbconvert_exporter": "python",
   "pygments_lexer": "ipython3",
   "version": "3.11.4"
  }
 },
 "nbformat": 4,
 "nbformat_minor": 5
}
