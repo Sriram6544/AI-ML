{
 "cells": [
  {
   "cell_type": "markdown",
   "id": "76b6b6fd",
   "metadata": {},
   "source": [
    "# 1.Create a 3X3X3 array with random values."
   ]
  },
  {
   "cell_type": "code",
   "execution_count": 3,
   "id": "9c0c5e1b",
   "metadata": {},
   "outputs": [
    {
     "name": "stdout",
     "output_type": "stream",
     "text": [
      "[[[0.11115554 0.0229299  0.69296655]\n",
      "  [0.8815573  0.08508831 0.98813103]\n",
      "  [0.00160499 0.48574891 0.29978733]]\n",
      "\n",
      " [[0.94468979 0.58865776 0.134696  ]\n",
      "  [0.46521928 0.60992446 0.27405449]\n",
      "  [0.34416823 0.65972683 0.04203869]]\n",
      "\n",
      " [[0.49632876 0.7170551  0.72590395]\n",
      "  [0.8297553  0.52698127 0.92549104]\n",
      "  [0.25407052 0.35527776 0.24491469]]]\n"
     ]
    }
   ],
   "source": [
    "import numpy as np\n",
    "\n",
    "\n",
    "random_array = np.random.rand(3, 3, 3)\n",
    "\n",
    "print(random_array)\n"
   ]
  },
  {
   "cell_type": "markdown",
   "id": "9203ef70",
   "metadata": {},
   "source": [
    "# 2.Create a 5X5 matrix with values 1,2,3,4 just below the diagonal"
   ]
  },
  {
   "cell_type": "code",
   "execution_count": 4,
   "id": "50b51540",
   "metadata": {},
   "outputs": [
    {
     "name": "stdout",
     "output_type": "stream",
     "text": [
      "[[0. 0. 0. 0. 0.]\n",
      " [1. 0. 0. 0. 0.]\n",
      " [0. 2. 0. 0. 0.]\n",
      " [0. 0. 3. 0. 0.]\n",
      " [0. 0. 0. 4. 0.]]\n"
     ]
    }
   ],
   "source": [
    "import numpy as np\n",
    "matrix = np.zeros((5, 5))\n",
    "values_below_diagonal = np.array([1, 2, 3, 4])\n",
    "np.fill_diagonal(matrix[1:], values_below_diagonal)\n",
    "\n",
    "print(matrix)\n"
   ]
  },
  {
   "cell_type": "markdown",
   "id": "72d8c984",
   "metadata": {},
   "source": [
    "# 3.Create a 8X8 matrix and fill it with a checkerboard pattern."
   ]
  },
  {
   "cell_type": "code",
   "execution_count": 6,
   "id": "997d6f5b",
   "metadata": {},
   "outputs": [
    {
     "name": "stdout",
     "output_type": "stream",
     "text": [
      "[[1. 0. 1. 0. 1. 0. 1. 0.]\n",
      " [0. 1. 0. 1. 0. 1. 0. 1.]\n",
      " [1. 0. 1. 0. 1. 0. 1. 0.]\n",
      " [0. 1. 0. 1. 0. 1. 0. 1.]\n",
      " [1. 0. 1. 0. 1. 0. 1. 0.]\n",
      " [0. 1. 0. 1. 0. 1. 0. 1.]\n",
      " [1. 0. 1. 0. 1. 0. 1. 0.]\n",
      " [0. 1. 0. 1. 0. 1. 0. 1.]]\n"
     ]
    }
   ],
   "source": [
    "import numpy as np\n",
    "matrix = np.zeros((8, 8))\n",
    "\n",
    "matrix[::2, ::2] = 1\n",
    "matrix[1::2, 1::2] = 1\n",
    "\n",
    "print(matrix)\n"
   ]
  },
  {
   "cell_type": "markdown",
   "id": "fe062d25",
   "metadata": {},
   "source": [
    "# 4.Normalize a 5X5 radnom matrix."
   ]
  },
  {
   "cell_type": "code",
   "execution_count": 7,
   "id": "c43a1bb9",
   "metadata": {},
   "outputs": [
    {
     "name": "stdout",
     "output_type": "stream",
     "text": [
      "Original Matrix:\n",
      "[[0.08596803 0.79029732 0.4301073  0.24279361 0.12971678]\n",
      " [0.26113308 0.76518524 0.94626519 0.70705741 0.8130395 ]\n",
      " [0.80316029 0.49011984 0.69879817 0.41564009 0.73010299]\n",
      " [0.9130032  0.03426773 0.41437711 0.13222057 0.05235433]\n",
      " [0.34414634 0.39533453 0.79370315 0.14018632 0.87328125]]\n",
      "\n",
      "Normalized Matrix:\n",
      "[[-1.36913881  0.98217067 -0.2202757  -0.84559751 -1.22308942]\n",
      " [-0.78437363  0.89833735  1.50284866  0.70428534  1.05809243]\n",
      " [ 1.02511201 -0.01993185  0.67671297 -0.26857254  0.78121993]\n",
      " [ 1.3918079  -1.54173337 -0.27278885 -1.21473087 -1.48135367]\n",
      " [-0.50724492 -0.33635995  0.99354059 -1.18813826  1.25920149]]\n"
     ]
    }
   ],
   "source": [
    "import numpy as np\n",
    "\n",
    "random_matrix = np.random.rand(5, 5)\n",
    "\n",
    "mean = np.mean(random_matrix)\n",
    "std_dev = np.std(random_matrix)\n",
    "\n",
    "normalized_matrix = (random_matrix - mean) / std_dev\n",
    "\n",
    "print(\"Original Matrix:\")\n",
    "print(random_matrix)\n",
    "print(\"\\nNormalized Matrix:\")\n",
    "print(normalized_matrix)\n"
   ]
  },
  {
   "cell_type": "markdown",
   "id": "7ebd9826",
   "metadata": {},
   "source": [
    "# 5.How to find common values between two arrays?"
   ]
  },
  {
   "cell_type": "code",
   "execution_count": 9,
   "id": "bf1879d4",
   "metadata": {},
   "outputs": [
    {
     "name": "stdout",
     "output_type": "stream",
     "text": [
      "Common values: [3 4 5]\n"
     ]
    }
   ],
   "source": [
    "import numpy as np\n",
    "\n",
    "\n",
    "arr1 = np.array([1, 2, 3, 4, 5])\n",
    "arr2 = np.array([3, 4, 5, 6, 7])\n",
    "\n",
    "\n",
    "common_values = np.intersect1d(arr1, arr2)\n",
    "\n",
    "print(\"Common values:\", common_values)\n"
   ]
  },
  {
   "cell_type": "markdown",
   "id": "730c5e25",
   "metadata": {},
   "source": [
    "# 6. How to get the dates of yesterday,today and tommorow?"
   ]
  },
  {
   "cell_type": "code",
   "execution_count": 10,
   "id": "0fc36984",
   "metadata": {},
   "outputs": [
    {
     "name": "stdout",
     "output_type": "stream",
     "text": [
      "Yesterday: 2023-09-20 16:47:13.437586\n",
      "Today: 2023-09-21 16:47:13.437586\n",
      "Tomorrow: 2023-09-22 16:47:13.437586\n"
     ]
    }
   ],
   "source": [
    "import numpy as np\n",
    "from datetime import datetime, timedelta\n",
    "today = datetime.now()\n",
    "yesterday = today - timedelta(days=1)\n",
    "tomorrow = today + timedelta(days=1)\n",
    "dates = np.array([yesterday, today, tomorrow])\n",
    "print(\"Yesterday:\", dates[0])\n",
    "print(\"Today:\", dates[1])\n",
    "print(\"Tomorrow:\", dates[2])\n"
   ]
  },
  {
   "cell_type": "markdown",
   "id": "2ca16dab",
   "metadata": {},
   "source": [
    "# 7.Consider two random array A and B and check if they are equal."
   ]
  },
  {
   "cell_type": "code",
   "execution_count": 12,
   "id": "3e014bd5",
   "metadata": {},
   "outputs": [
    {
     "name": "stdout",
     "output_type": "stream",
     "text": [
      "Arrays A and B are not equal\n"
     ]
    }
   ],
   "source": [
    "import numpy as np\n",
    "\n",
    "\n",
    "A = np.random.rand(3, 3)\n",
    "B = np.random.rand(3, 3)\n",
    "\n",
    "\n",
    "are_equal = np.array_equal(A, B)\n",
    "if are_equal:\n",
    "    print(\"Arrays A and B are equal\")\n",
    "else :\n",
    "     print(\"Arrays A and B are not equal\")\n"
   ]
  },
  {
   "cell_type": "markdown",
   "id": "ce10e5ad",
   "metadata": {},
   "source": [
    "# 8.Create a random vector of size 10 and replace the maximum value by 0."
   ]
  },
  {
   "cell_type": "code",
   "execution_count": 19,
   "id": "39c73461",
   "metadata": {},
   "outputs": [
    {
     "name": "stdout",
     "output_type": "stream",
     "text": [
      "Original vector:\n",
      "[0.61083615 0.2778777  0.17609595 0.34748226 0.63790757 0.8824375\n",
      " 0.55095674 0.01569833 0.9447535  0.72294988]\n",
      "afte replacing max value with 0 :\n",
      "[0.61083615 0.2778777  0.17609595 0.34748226 0.63790757 0.8824375\n",
      " 0.55095674 0.01569833 0.         0.72294988]\n"
     ]
    }
   ],
   "source": [
    "import numpy as np\n",
    "\n",
    "random_vector = np.random.rand(10)\n",
    "\n",
    "print(\"Original vector:\")\n",
    "print(random_vector)\n",
    "\n",
    "max_value = np.max(random_vector)\n",
    "random_vector[random_vector == max_value] = 0\n",
    "print(\"afte replacing max value with 0 :\")\n",
    "print(random_vector)\n"
   ]
  },
  {
   "cell_type": "markdown",
   "id": "2252d68e",
   "metadata": {},
   "source": [
    "# 9.How to print all the values of an array?"
   ]
  },
  {
   "cell_type": "code",
   "execution_count": 20,
   "id": "a1415f33",
   "metadata": {},
   "outputs": [
    {
     "name": "stdout",
     "output_type": "stream",
     "text": [
      "All values of an array : [1 2 3 4 5]\n"
     ]
    }
   ],
   "source": [
    "import numpy as np\n",
    "\n",
    "\n",
    "arr = np.array([1, 2, 3, 4, 5])\n",
    "\n",
    "print(\"All values of an array :\",arr)"
   ]
  },
  {
   "cell_type": "markdown",
   "id": "a61c4f02",
   "metadata": {},
   "source": [
    "# 10.Subtract the mean of each row of a matrix."
   ]
  },
  {
   "cell_type": "code",
   "execution_count": null,
   "id": "57cf3062",
   "metadata": {},
   "outputs": [],
   "source": [
    "import numpy as np\n",
    "\n",
    "\n",
    "matrix = np.array([[1, 2, 3],\n",
    "                   [4, 5, 6],\n",
    "                   [7, 8, 9]])\n",
    "\n",
    "\n",
    "row_means = np.mean(matrix, axis=1)\n",
    "\n",
    "\n",
    "normalized_matrix = matrix - row_means[:, np.newaxis]\n",
    "\n",
    "print(\"Original Matrix:\")\n",
    "print(matrix)\n",
    "\n",
    "print(\"\\nMean of each row:\")\n",
    "print(row_means)\n",
    "\n",
    "print(\"\\nMatrix after subtracting row means:\")\n",
    "print(normalized_matrix)\n"
   ]
  },
  {
   "cell_type": "code",
   "execution_count": null,
   "id": "ec73c52a",
   "metadata": {},
   "outputs": [],
   "source": [
    "11.COnsider a given vector, how to add 1 to each element indexed by a second vector(be careful with replaced indices)?"
   ]
  },
  {
   "cell_type": "code",
   "execution_count": 23,
   "id": "bd6a8a4e",
   "metadata": {},
   "outputs": [
    {
     "name": "stdout",
     "output_type": "stream",
     "text": [
      "Original vector:\n",
      "[ 44  79  35  46 584]\n"
     ]
    }
   ],
   "source": [
    "import numpy as np\n",
    "\n",
    "\n",
    "vector = np.array([44, 78, 35, 45, 584])\n",
    "\n",
    "\n",
    "indices = np.array([1, 3])\n",
    "\n",
    "\n",
    "vector[indices] += 1\n",
    "\n",
    "print(\"Original vector:\")\n",
    "print(vector)\n"
   ]
  },
  {
   "cell_type": "markdown",
   "id": "6f51234e",
   "metadata": {},
   "source": [
    "# 12.How to get the diagonal of a dot product"
   ]
  },
  {
   "cell_type": "code",
   "execution_count": 24,
   "id": "d59839cf",
   "metadata": {},
   "outputs": [
    {
     "name": "stdout",
     "output_type": "stream",
     "text": [
      "dot_product is : [[0.67324515 0.60354138 0.79162596]\n",
      " [0.22067214 0.25087635 0.29812252]\n",
      " [1.08160694 1.03010533 1.22673321]]\n",
      "\n",
      "Diagonal elements of the dot product: [0.67324515 0.25087635 1.22673321]\n"
     ]
    }
   ],
   "source": [
    "import numpy as np\n",
    "\n",
    "\n",
    "matrix1 = np.random.rand(3, 3)\n",
    "matrix2 = np.random.rand(3, 3)\n",
    "\n",
    "\n",
    "dot_product = np.dot(matrix1, matrix2)\n",
    "\n",
    "\n",
    "diagonal_elements = np.diag(dot_product)\n",
    "\n",
    "\n",
    "print(\"dot_product is :\",dot_product)\n",
    "\n",
    "print(\"\\nDiagonal elements of the dot product:\",diagonal_elements)\n",
    "\n"
   ]
  },
  {
   "cell_type": "markdown",
   "id": "40b9c714",
   "metadata": {},
   "source": [
    "# 13.How to find the most frequent value in an array?\n"
   ]
  },
  {
   "cell_type": "code",
   "execution_count": 28,
   "id": "fd5e52de",
   "metadata": {},
   "outputs": [
    {
     "name": "stdout",
     "output_type": "stream",
     "text": [
      "Array: [1 2 3 2 2 3 4 3 3]\n",
      "Most frequent value: 3\n"
     ]
    }
   ],
   "source": [
    "import numpy as np\n",
    "\n",
    "\n",
    "array = np.array([1, 2, 3, 2, 2, 3, 4, 3, 3])\n",
    "\n",
    "\n",
    "count = np.bincount(array)\n",
    "\n",
    "\n",
    "\n",
    "most_frequent_value = np.argmax(count)\n",
    "\n",
    "print(\"Array:\", array)\n",
    "print(\"Most frequent value:\", most_frequent_value)\n"
   ]
  },
  {
   "cell_type": "markdown",
   "id": "0df5e760",
   "metadata": {},
   "source": [
    "# 14.How to get the n largest values of n array"
   ]
  },
  {
   "cell_type": "code",
   "execution_count": 29,
   "id": "1cd3d032",
   "metadata": {},
   "outputs": [
    {
     "name": "stdout",
     "output_type": "stream",
     "text": [
      "Array: [3 1 4 1 5 9 2 6 5 3 5]\n",
      "3 largest values: [5 6 9]\n"
     ]
    }
   ],
   "source": [
    "import numpy as np\n",
    "\n",
    "\n",
    "array = np.array([3, 1, 4, 1, 5, 9, 2, 6, 5, 3, 5])\n",
    "\n",
    "\n",
    "n = 3\n",
    "\n",
    "\n",
    "n_largest_values = np.partition(array, -n)[-n:]\n",
    "\n",
    "print(\"Array:\", array)\n",
    "print(f\"{n} largest values:\", n_largest_values)\n"
   ]
  },
  {
   "cell_type": "markdown",
   "id": "547e7cba",
   "metadata": {},
   "source": [
    "# 15.How to create a record array from a regular array?\n"
   ]
  },
  {
   "cell_type": "code",
   "execution_count": 33,
   "id": "21500bad",
   "metadata": {},
   "outputs": [
    {
     "name": "stdout",
     "output_type": "stream",
     "text": [
      "Regular Array:\n",
      "[(25, 'sriram', 22) (56, 'surya', 55) ( 5, 'kumar', 44)]\n",
      "\n",
      "Record Array:\n",
      "((25, 'sriram', 22), (56, 'surya', 55), (5, 'kumar', 44))\n"
     ]
    }
   ],
   "source": [
    "import numpy as np\n",
    "\n",
    "\n",
    "r1= np.array([(25, 'sriram', 22), \n",
    "                          (56, 'surya', 55), \n",
    "                          (5, 'kumar', 44)],\n",
    "                         dtype=[('id', int), ('name', 'U10'), ('age', int)])\n",
    "\n",
    "\n",
    "r2 = np.core.records.fromarrays(r1.transpose(), \n",
    "                                           names='id, name, age')\n",
    "\n",
    "print(\"Regular Array:\")\n",
    "print(r1)\n",
    "\n",
    "print(\"\\nRecord Array:\")\n",
    "print(r2)\n"
   ]
  },
  {
   "cell_type": "markdown",
   "id": "b417b7de",
   "metadata": {},
   "source": [
    "# 16.How to swap two rows of an array?"
   ]
  },
  {
   "cell_type": "code",
   "execution_count": 36,
   "id": "df1df3f0",
   "metadata": {},
   "outputs": [
    {
     "name": "stdout",
     "output_type": "stream",
     "text": [
      "Original array:\n",
      "[[  65   23  463]\n",
      " [5421   55   26]\n",
      " [ 447  568   29]]\n",
      "\n",
      "Array after swapping \n",
      "[[5421   55   26]\n",
      " [  65   23  463]\n",
      " [ 447  568   29]]\n"
     ]
    }
   ],
   "source": [
    "import numpy as np\n",
    "\n",
    "array = np.array([[65, 23, 463],\n",
    "                  [5421, 55, 26],\n",
    "                  [447, 568, 29]])\n",
    "\n",
    "print(\"Original array:\")\n",
    "print(array)\n",
    "array[[0, 1]] = array[[1, 0]]\n",
    "\n",
    "print(\"\\nArray after swapping \")\n",
    "print(array)\n"
   ]
  },
  {
   "cell_type": "markdown",
   "id": "587143c3",
   "metadata": {},
   "source": [
    "# 17.Write a python code to reshape to the next dimension of numpy array?\n",
    "x=np.array([[23,34,121],[23,22,67],[686,434,123]])"
   ]
  },
  {
   "cell_type": "code",
   "execution_count": 37,
   "id": "17e9faf3",
   "metadata": {},
   "outputs": [
    {
     "name": "stdout",
     "output_type": "stream",
     "text": [
      "Original array:\n",
      "[[ 23  34 121]\n",
      " [ 23  22  67]\n",
      " [686 434 123]]\n",
      "\n",
      "Reshaped array to the next dimension:\n",
      "[[ 23  34 121]\n",
      " [ 23  22  67]\n",
      " [686 434 123]]\n"
     ]
    }
   ],
   "source": [
    "import numpy as np\n",
    "\n",
    "\n",
    "x = np.array([[23, 34, 121], [23, 22, 67], [686, 434, 123]])\n",
    "\n",
    "\n",
    "total_elements = x.size\n",
    "\n",
    "\n",
    "next_dimension = int(np.ceil(total_elements ** (1 / 3)))\n",
    "\n",
    "\n",
    "reshaped_array = x.reshape((next_dimension, -1))\n",
    "\n",
    "print(\"Original array:\")\n",
    "print(x)\n",
    "\n",
    "print(\"\\nReshaped array to the next dimension:\")\n",
    "print(reshaped_array)\n"
   ]
  },
  {
   "cell_type": "code",
   "execution_count": null,
   "id": "df342e61",
   "metadata": {},
   "outputs": [],
   "source": []
  }
 ],
 "metadata": {
  "kernelspec": {
   "display_name": "Python 3 (ipykernel)",
   "language": "python",
   "name": "python3"
  },
  "language_info": {
   "codemirror_mode": {
    "name": "ipython",
    "version": 3
   },
   "file_extension": ".py",
   "mimetype": "text/x-python",
   "name": "python",
   "nbconvert_exporter": "python",
   "pygments_lexer": "ipython3",
   "version": "3.11.4"
  }
 },
 "nbformat": 4,
 "nbformat_minor": 5
}
