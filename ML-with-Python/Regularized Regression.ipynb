{
 "cells": [
  {
   "cell_type": "code",
   "execution_count": 1,
   "id": "08e5b757",
   "metadata": {},
   "outputs": [],
   "source": [
    "import numpy as np\n",
    "import pandas as pd\n",
    "import matplotlib.pyplot as plt\n",
    "import seaborn as sns"
   ]
  },
  {
   "cell_type": "code",
   "execution_count": 2,
   "id": "c177188a",
   "metadata": {},
   "outputs": [],
   "source": [
    "from sklearn.model_selection import train_test_split\n",
    "from sklearn.linear_model import LinearRegression\n",
    "from sklearn.linear_model import Lasso\n",
    "from sklearn.linear_model import Ridge"
   ]
  },
  {
   "cell_type": "code",
   "execution_count": 7,
   "id": "9b8b65cd",
   "metadata": {},
   "outputs": [
    {
     "data": {
      "text/html": [
       "<div>\n",
       "<style scoped>\n",
       "    .dataframe tbody tr th:only-of-type {\n",
       "        vertical-align: middle;\n",
       "    }\n",
       "\n",
       "    .dataframe tbody tr th {\n",
       "        vertical-align: top;\n",
       "    }\n",
       "\n",
       "    .dataframe thead th {\n",
       "        text-align: right;\n",
       "    }\n",
       "</style>\n",
       "<table border=\"1\" class=\"dataframe\">\n",
       "  <thead>\n",
       "    <tr style=\"text-align: right;\">\n",
       "      <th></th>\n",
       "      <th>Area_in_Marla</th>\n",
       "      <th>baths</th>\n",
       "      <th>bedrooms</th>\n",
       "      <th>price</th>\n",
       "      <th>property_type</th>\n",
       "      <th>location</th>\n",
       "      <th>city</th>\n",
       "      <th>purpose</th>\n",
       "    </tr>\n",
       "  </thead>\n",
       "  <tbody>\n",
       "    <tr>\n",
       "      <th>0</th>\n",
       "      <td>4.0</td>\n",
       "      <td>2</td>\n",
       "      <td>2</td>\n",
       "      <td>10000000</td>\n",
       "      <td>Flat</td>\n",
       "      <td>G-10</td>\n",
       "      <td>Islamabad</td>\n",
       "      <td>For Sale</td>\n",
       "    </tr>\n",
       "    <tr>\n",
       "      <th>1</th>\n",
       "      <td>5.6</td>\n",
       "      <td>3</td>\n",
       "      <td>3</td>\n",
       "      <td>6900000</td>\n",
       "      <td>Flat</td>\n",
       "      <td>E-11</td>\n",
       "      <td>Islamabad</td>\n",
       "      <td>For Sale</td>\n",
       "    </tr>\n",
       "    <tr>\n",
       "      <th>2</th>\n",
       "      <td>8.0</td>\n",
       "      <td>6</td>\n",
       "      <td>5</td>\n",
       "      <td>16500000</td>\n",
       "      <td>House</td>\n",
       "      <td>G-15</td>\n",
       "      <td>Islamabad</td>\n",
       "      <td>For Sale</td>\n",
       "    </tr>\n",
       "    <tr>\n",
       "      <th>3</th>\n",
       "      <td>40.0</td>\n",
       "      <td>4</td>\n",
       "      <td>4</td>\n",
       "      <td>43500000</td>\n",
       "      <td>House</td>\n",
       "      <td>Bani Gala</td>\n",
       "      <td>Islamabad</td>\n",
       "      <td>For Sale</td>\n",
       "    </tr>\n",
       "    <tr>\n",
       "      <th>4</th>\n",
       "      <td>8.0</td>\n",
       "      <td>3</td>\n",
       "      <td>3</td>\n",
       "      <td>7000000</td>\n",
       "      <td>House</td>\n",
       "      <td>DHA Defence</td>\n",
       "      <td>Islamabad</td>\n",
       "      <td>For Sale</td>\n",
       "    </tr>\n",
       "    <tr>\n",
       "      <th>...</th>\n",
       "      <td>...</td>\n",
       "      <td>...</td>\n",
       "      <td>...</td>\n",
       "      <td>...</td>\n",
       "      <td>...</td>\n",
       "      <td>...</td>\n",
       "      <td>...</td>\n",
       "      <td>...</td>\n",
       "    </tr>\n",
       "    <tr>\n",
       "      <th>99494</th>\n",
       "      <td>8.0</td>\n",
       "      <td>3</td>\n",
       "      <td>3</td>\n",
       "      <td>7500000</td>\n",
       "      <td>Flat</td>\n",
       "      <td>Bahria Town Karachi</td>\n",
       "      <td>Karachi</td>\n",
       "      <td>For Sale</td>\n",
       "    </tr>\n",
       "    <tr>\n",
       "      <th>99495</th>\n",
       "      <td>8.0</td>\n",
       "      <td>4</td>\n",
       "      <td>3</td>\n",
       "      <td>8800000</td>\n",
       "      <td>House</td>\n",
       "      <td>Bahria Town Karachi</td>\n",
       "      <td>Karachi</td>\n",
       "      <td>For Sale</td>\n",
       "    </tr>\n",
       "    <tr>\n",
       "      <th>99496</th>\n",
       "      <td>8.0</td>\n",
       "      <td>3</td>\n",
       "      <td>3</td>\n",
       "      <td>14000000</td>\n",
       "      <td>House</td>\n",
       "      <td>Bahria Town Karachi</td>\n",
       "      <td>Karachi</td>\n",
       "      <td>For Sale</td>\n",
       "    </tr>\n",
       "    <tr>\n",
       "      <th>99497</th>\n",
       "      <td>14.0</td>\n",
       "      <td>4</td>\n",
       "      <td>4</td>\n",
       "      <td>14000000</td>\n",
       "      <td>House</td>\n",
       "      <td>Bahria Town Karachi</td>\n",
       "      <td>Karachi</td>\n",
       "      <td>For Sale</td>\n",
       "    </tr>\n",
       "    <tr>\n",
       "      <th>99498</th>\n",
       "      <td>9.4</td>\n",
       "      <td>3</td>\n",
       "      <td>3</td>\n",
       "      <td>9000000</td>\n",
       "      <td>House</td>\n",
       "      <td>Bahria Town Karachi</td>\n",
       "      <td>Karachi</td>\n",
       "      <td>For Sale</td>\n",
       "    </tr>\n",
       "  </tbody>\n",
       "</table>\n",
       "<p>99499 rows × 8 columns</p>\n",
       "</div>"
      ],
      "text/plain": [
       "       Area_in_Marla  baths  bedrooms     price property_type  \\\n",
       "0                4.0      2         2  10000000          Flat   \n",
       "1                5.6      3         3   6900000          Flat   \n",
       "2                8.0      6         5  16500000         House   \n",
       "3               40.0      4         4  43500000         House   \n",
       "4                8.0      3         3   7000000         House   \n",
       "...              ...    ...       ...       ...           ...   \n",
       "99494            8.0      3         3   7500000          Flat   \n",
       "99495            8.0      4         3   8800000         House   \n",
       "99496            8.0      3         3  14000000         House   \n",
       "99497           14.0      4         4  14000000         House   \n",
       "99498            9.4      3         3   9000000         House   \n",
       "\n",
       "                  location       city   purpose  \n",
       "0                     G-10  Islamabad  For Sale  \n",
       "1                     E-11  Islamabad  For Sale  \n",
       "2                     G-15  Islamabad  For Sale  \n",
       "3                Bani Gala  Islamabad  For Sale  \n",
       "4              DHA Defence  Islamabad  For Sale  \n",
       "...                    ...        ...       ...  \n",
       "99494  Bahria Town Karachi    Karachi  For Sale  \n",
       "99495  Bahria Town Karachi    Karachi  For Sale  \n",
       "99496  Bahria Town Karachi    Karachi  For Sale  \n",
       "99497  Bahria Town Karachi    Karachi  For Sale  \n",
       "99498  Bahria Town Karachi    Karachi  For Sale  \n",
       "\n",
       "[99499 rows x 8 columns]"
      ]
     },
     "execution_count": 7,
     "metadata": {},
     "output_type": "execute_result"
    }
   ],
   "source": [
    "df=pd.read_csv(\"houseesss.csv\")\n",
    "df\n"
   ]
  },
  {
   "cell_type": "code",
   "execution_count": 8,
   "id": "19fcc9b7",
   "metadata": {},
   "outputs": [
    {
     "data": {
      "text/plain": [
       "Area_in_Marla    0\n",
       "baths            0\n",
       "bedrooms         0\n",
       "price            0\n",
       "property_type    0\n",
       "location         0\n",
       "city             0\n",
       "purpose          0\n",
       "dtype: int64"
      ]
     },
     "execution_count": 8,
     "metadata": {},
     "output_type": "execute_result"
    }
   ],
   "source": [
    "df.isna().sum()"
   ]
  },
  {
   "cell_type": "code",
   "execution_count": 10,
   "id": "e6e3ad48",
   "metadata": {},
   "outputs": [
    {
     "data": {
      "text/html": [
       "<div>\n",
       "<style scoped>\n",
       "    .dataframe tbody tr th:only-of-type {\n",
       "        vertical-align: middle;\n",
       "    }\n",
       "\n",
       "    .dataframe tbody tr th {\n",
       "        vertical-align: top;\n",
       "    }\n",
       "\n",
       "    .dataframe thead th {\n",
       "        text-align: right;\n",
       "    }\n",
       "</style>\n",
       "<table border=\"1\" class=\"dataframe\">\n",
       "  <thead>\n",
       "    <tr style=\"text-align: right;\">\n",
       "      <th></th>\n",
       "      <th>Area_in_Marla</th>\n",
       "      <th>baths</th>\n",
       "      <th>bedrooms</th>\n",
       "    </tr>\n",
       "  </thead>\n",
       "  <tbody>\n",
       "    <tr>\n",
       "      <th>0</th>\n",
       "      <td>4.0</td>\n",
       "      <td>2</td>\n",
       "      <td>2</td>\n",
       "    </tr>\n",
       "    <tr>\n",
       "      <th>1</th>\n",
       "      <td>5.6</td>\n",
       "      <td>3</td>\n",
       "      <td>3</td>\n",
       "    </tr>\n",
       "    <tr>\n",
       "      <th>2</th>\n",
       "      <td>8.0</td>\n",
       "      <td>6</td>\n",
       "      <td>5</td>\n",
       "    </tr>\n",
       "    <tr>\n",
       "      <th>3</th>\n",
       "      <td>40.0</td>\n",
       "      <td>4</td>\n",
       "      <td>4</td>\n",
       "    </tr>\n",
       "    <tr>\n",
       "      <th>4</th>\n",
       "      <td>8.0</td>\n",
       "      <td>3</td>\n",
       "      <td>3</td>\n",
       "    </tr>\n",
       "    <tr>\n",
       "      <th>...</th>\n",
       "      <td>...</td>\n",
       "      <td>...</td>\n",
       "      <td>...</td>\n",
       "    </tr>\n",
       "    <tr>\n",
       "      <th>99494</th>\n",
       "      <td>8.0</td>\n",
       "      <td>3</td>\n",
       "      <td>3</td>\n",
       "    </tr>\n",
       "    <tr>\n",
       "      <th>99495</th>\n",
       "      <td>8.0</td>\n",
       "      <td>4</td>\n",
       "      <td>3</td>\n",
       "    </tr>\n",
       "    <tr>\n",
       "      <th>99496</th>\n",
       "      <td>8.0</td>\n",
       "      <td>3</td>\n",
       "      <td>3</td>\n",
       "    </tr>\n",
       "    <tr>\n",
       "      <th>99497</th>\n",
       "      <td>14.0</td>\n",
       "      <td>4</td>\n",
       "      <td>4</td>\n",
       "    </tr>\n",
       "    <tr>\n",
       "      <th>99498</th>\n",
       "      <td>9.4</td>\n",
       "      <td>3</td>\n",
       "      <td>3</td>\n",
       "    </tr>\n",
       "  </tbody>\n",
       "</table>\n",
       "<p>99499 rows × 3 columns</p>\n",
       "</div>"
      ],
      "text/plain": [
       "       Area_in_Marla  baths  bedrooms\n",
       "0                4.0      2         2\n",
       "1                5.6      3         3\n",
       "2                8.0      6         5\n",
       "3               40.0      4         4\n",
       "4                8.0      3         3\n",
       "...              ...    ...       ...\n",
       "99494            8.0      3         3\n",
       "99495            8.0      4         3\n",
       "99496            8.0      3         3\n",
       "99497           14.0      4         4\n",
       "99498            9.4      3         3\n",
       "\n",
       "[99499 rows x 3 columns]"
      ]
     },
     "execution_count": 10,
     "metadata": {},
     "output_type": "execute_result"
    }
   ],
   "source": [
    "x=df.iloc[:,:3]\n",
    "x"
   ]
  },
  {
   "cell_type": "code",
   "execution_count": 11,
   "id": "1179bddd",
   "metadata": {},
   "outputs": [
    {
     "data": {
      "text/html": [
       "<div>\n",
       "<style scoped>\n",
       "    .dataframe tbody tr th:only-of-type {\n",
       "        vertical-align: middle;\n",
       "    }\n",
       "\n",
       "    .dataframe tbody tr th {\n",
       "        vertical-align: top;\n",
       "    }\n",
       "\n",
       "    .dataframe thead th {\n",
       "        text-align: right;\n",
       "    }\n",
       "</style>\n",
       "<table border=\"1\" class=\"dataframe\">\n",
       "  <thead>\n",
       "    <tr style=\"text-align: right;\">\n",
       "      <th></th>\n",
       "      <th>price</th>\n",
       "    </tr>\n",
       "  </thead>\n",
       "  <tbody>\n",
       "    <tr>\n",
       "      <th>0</th>\n",
       "      <td>10000000</td>\n",
       "    </tr>\n",
       "    <tr>\n",
       "      <th>1</th>\n",
       "      <td>6900000</td>\n",
       "    </tr>\n",
       "    <tr>\n",
       "      <th>2</th>\n",
       "      <td>16500000</td>\n",
       "    </tr>\n",
       "    <tr>\n",
       "      <th>3</th>\n",
       "      <td>43500000</td>\n",
       "    </tr>\n",
       "    <tr>\n",
       "      <th>4</th>\n",
       "      <td>7000000</td>\n",
       "    </tr>\n",
       "    <tr>\n",
       "      <th>...</th>\n",
       "      <td>...</td>\n",
       "    </tr>\n",
       "    <tr>\n",
       "      <th>99494</th>\n",
       "      <td>7500000</td>\n",
       "    </tr>\n",
       "    <tr>\n",
       "      <th>99495</th>\n",
       "      <td>8800000</td>\n",
       "    </tr>\n",
       "    <tr>\n",
       "      <th>99496</th>\n",
       "      <td>14000000</td>\n",
       "    </tr>\n",
       "    <tr>\n",
       "      <th>99497</th>\n",
       "      <td>14000000</td>\n",
       "    </tr>\n",
       "    <tr>\n",
       "      <th>99498</th>\n",
       "      <td>9000000</td>\n",
       "    </tr>\n",
       "  </tbody>\n",
       "</table>\n",
       "<p>99499 rows × 1 columns</p>\n",
       "</div>"
      ],
      "text/plain": [
       "          price\n",
       "0      10000000\n",
       "1       6900000\n",
       "2      16500000\n",
       "3      43500000\n",
       "4       7000000\n",
       "...         ...\n",
       "99494   7500000\n",
       "99495   8800000\n",
       "99496  14000000\n",
       "99497  14000000\n",
       "99498   9000000\n",
       "\n",
       "[99499 rows x 1 columns]"
      ]
     },
     "execution_count": 11,
     "metadata": {},
     "output_type": "execute_result"
    }
   ],
   "source": [
    "y=df.iloc[:,3:4]\n",
    "y"
   ]
  },
  {
   "cell_type": "code",
   "execution_count": 41,
   "id": "9427948d",
   "metadata": {},
   "outputs": [],
   "source": [
    "xtrain,xtest,ytrain,ytest=train_test_split(x,y,test_size=0.25,random_state=2)"
   ]
  },
  {
   "cell_type": "code",
   "execution_count": 42,
   "id": "45aa3afc",
   "metadata": {},
   "outputs": [
    {
     "data": {
      "text/plain": [
       "(74624, 3)"
      ]
     },
     "execution_count": 42,
     "metadata": {},
     "output_type": "execute_result"
    }
   ],
   "source": [
    "xtrain.shape"
   ]
  },
  {
   "cell_type": "code",
   "execution_count": 43,
   "id": "087f13c1",
   "metadata": {},
   "outputs": [
    {
     "data": {
      "text/plain": [
       "(74624, 1)"
      ]
     },
     "execution_count": 43,
     "metadata": {},
     "output_type": "execute_result"
    }
   ],
   "source": [
    "ytrain.shape"
   ]
  },
  {
   "cell_type": "code",
   "execution_count": 44,
   "id": "d9f76e47",
   "metadata": {},
   "outputs": [
    {
     "name": "stdout",
     "output_type": "stream",
     "text": [
      "***************Base Regression*********\n",
      "\n",
      "Training Started....\n",
      "\n",
      "\n",
      "Base Train_score:\t 0.2518533555139112\n",
      "\n",
      "Base Test Score:\t 0.25846043229268156\n",
      "\n",
      "R-square:\t 0.25846043229268156\n",
      "\n"
     ]
    }
   ],
   "source": [
    "base_reg=LinearRegression()\n",
    "print(\"***************Base Regression*********\")\n",
    "print()\n",
    "print(\"Training Started....\\n\")\n",
    "base_reg.fit(xtrain,ytrain)\n",
    "print()\n",
    "base_pred=base_reg.predict(xtest)\n",
    "from sklearn.metrics import r2_score\n",
    "print(\"Base Train_score:\\t\",base_reg.score(xtrain,ytrain))\n",
    "print()\n",
    "print(\"Base Test Score:\\t\",base_reg.score(xtest,ytest))\n",
    "print()\n",
    "print(\"R-square:\\t\",r2_score(ytest,base_pred))\n",
    "print()"
   ]
  },
  {
   "cell_type": "code",
   "execution_count": 45,
   "id": "fed9683c",
   "metadata": {},
   "outputs": [
    {
     "name": "stdout",
     "output_type": "stream",
     "text": [
      "*************Lasso Regression Model*************\n",
      "\n",
      "Lasso Train_score:\t 0.2518533555139112\n",
      "\n",
      "Lasso Test_score:\t 0.2584604323489794\n",
      "\n",
      "Lasso R-Square:\t 0.2584604323489794\n"
     ]
    }
   ],
   "source": [
    "print(\"*************Lasso Regression Model*************\")\n",
    "print()\n",
    "lr=Lasso(alpha=0.01)\n",
    "lr.fit(xtrain,ytrain)\n",
    "lr_pred=lr.predict(xtest)\n",
    "print(\"Lasso Train_score:\\t\", lr.score(xtrain,ytrain))\n",
    "print()\n",
    "print(\"Lasso Test_score:\\t\", lr.score(xtest,ytest))\n",
    "print()\n",
    "print(\"Lasso R-Square:\\t\",r2_score(ytest,lr_pred))\n"
   ]
  },
  {
   "cell_type": "code",
   "execution_count": 49,
   "id": "274ff6ff",
   "metadata": {},
   "outputs": [
    {
     "name": "stdout",
     "output_type": "stream",
     "text": [
      "Mean Squared Error: \t 83914923754351.64\n",
      "\n",
      "RMSE: \t 9160508.924418535\n",
      "\n",
      "Mean Absolute Error: \t 6819327.495883697\n"
     ]
    }
   ],
   "source": [
    "from sklearn.metrics import mean_squared_error\n",
    "from sklearn.metrics import mean_absolute_error\n",
    "print('Mean Squared Error: \\t', mean_squared_error(ytest, lr_pred))\n",
    "print()\n",
    "print('RMSE: \\t', np.sqrt(mean_squared_error(ytest, lr_pred)))\n",
    "print()\n",
    "print(\"Mean Absolute Error: \\t\",mean_absolute_error(ytest,lr_pred))"
   ]
  },
  {
   "cell_type": "code",
   "execution_count": 50,
   "id": "b9c2d9d3",
   "metadata": {},
   "outputs": [
    {
     "name": "stdout",
     "output_type": "stream",
     "text": [
      "*************Lasso Regression Model*************\n",
      "\n",
      "Ridge Train_score:\t 0.2518533555139102\n",
      "\n",
      "Ridge Test_score:\t 0.2584604319521223\n",
      "\n",
      "Ridge R-Square:\t 0.2584604319521223\n"
     ]
    }
   ],
   "source": [
    "print(\"*************Lasso Regression Model*************\")\n",
    "print()\n",
    "rr=Ridge(alpha=0.01)\n",
    "rr.fit(xtrain,ytrain)\n",
    "rr_pred=rr.predict(xtest)\n",
    "print(\"Ridge Train_score:\\t\", rr.score(xtrain,ytrain))\n",
    "print()\n",
    "print(\"Ridge Test_score:\\t\", rr.score(xtest,ytest))\n",
    "print()\n",
    "print(\"Ridge R-Square:\\t\",r2_score(ytest,rr_pred))\n"
   ]
  },
  {
   "cell_type": "code",
   "execution_count": 51,
   "id": "b6334b9d",
   "metadata": {},
   "outputs": [
    {
     "name": "stdout",
     "output_type": "stream",
     "text": [
      "Mean Squared Error: \t 83914923799261.22\n",
      "\n",
      "RMSE: \t 9160508.926869797\n",
      "\n",
      "Mean Absolute Error: \t 6819327.501621262\n"
     ]
    }
   ],
   "source": [
    "from sklearn.metrics import mean_squared_error\n",
    "from sklearn.metrics import mean_absolute_error\n",
    "print('Mean Squared Error: \\t', mean_squared_error(ytest, rr_pred))\n",
    "print()\n",
    "print('RMSE: \\t', np.sqrt(mean_squared_error(ytest, rr_pred)))\n",
    "print()\n",
    "print(\"Mean Absolute Error: \\t\",mean_absolute_error(ytest,rr_pred))"
   ]
  },
  {
   "cell_type": "code",
   "execution_count": null,
   "id": "405eecdd",
   "metadata": {},
   "outputs": [],
   "source": []
  }
 ],
 "metadata": {
  "kernelspec": {
   "display_name": "Python 3 (ipykernel)",
   "language": "python",
   "name": "python3"
  },
  "language_info": {
   "codemirror_mode": {
    "name": "ipython",
    "version": 3
   },
   "file_extension": ".py",
   "mimetype": "text/x-python",
   "name": "python",
   "nbconvert_exporter": "python",
   "pygments_lexer": "ipython3",
   "version": "3.11.4"
  }
 },
 "nbformat": 4,
 "nbformat_minor": 5
}
