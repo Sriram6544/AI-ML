{
 "cells": [
  {
   "cell_type": "markdown",
   "id": "8b8ed905",
   "metadata": {},
   "source": [
    "# 16. Create a Python module named calculator.py that contains functions for each of the four operations (addition, subtraction, multiplication, and division). Each function should take two arguments, perform the respective operation, and return the result."
   ]
  },
  {
   "cell_type": "code",
   "execution_count": 1,
   "id": "530a7ab9",
   "metadata": {},
   "outputs": [
    {
     "name": "stdout",
     "output_type": "stream",
     "text": [
      "12\n",
      "2\n",
      "Addition of given two numbers: 14\n",
      "Subtraction of given two numbers: 10\n",
      "Multiplication of given two numbers: 24\n",
      "Division of given two numbers: 6.0\n"
     ]
    }
   ],
   "source": [
    "#calculator.py\n",
    "\n",
    "\n",
    "def addition(a, b):\n",
    "\n",
    "    return a + b\n",
    "\n",
    "def subtraction(a, b):\n",
    "   \n",
    "    return a - b\n",
    "\n",
    "def multiplication(a, b):\n",
    " \n",
    "    return a * b\n",
    "\n",
    "def division(a, b):\n",
    "\n",
    "    if b == 0:\n",
    "        raise ValueError(\"Division by zero is not allowed.\")\n",
    "    return a / b\n",
    "\n",
    "\n",
    "\n",
    "\n",
    "#calc.py\n",
    "\n",
    "import calculator\n",
    "\n",
    "first_number=int(input())\n",
    "second_number=int(input())\n",
    "\n",
    "addition = calculator.addition(first_number, second_number)\n",
    "print(\"Addition of given two numbers:\", addition)\n",
    "\n",
    "subtraction = calculator.subtraction(first_number, second_number)\n",
    "print(\"Subtraction of given two numbers:\", subtraction)\n",
    "\n",
    "multiplication = calculator.multiplication(first_number,second_number)\n",
    "print(\"Multiplication of given two numbers:\", multiplication)\n",
    "\n",
    "division = calculator.division(first_number, second_number)\n",
    "print(\"Division of given two numbers:\", division)\n",
    "\n",
    "\n",
    "\n"
   ]
  },
  {
   "cell_type": "markdown",
   "id": "e6fb6aaf",
   "metadata": {},
   "source": [
    "# 15. Create a custom Python module that includes functions to calculate the factorial of a number and to check if a number is prime. Import and use this module in another Python script."
   ]
  },
  {
   "cell_type": "code",
   "execution_count": 2,
   "id": "6e388912",
   "metadata": {},
   "outputs": [
    {
     "name": "stdout",
     "output_type": "stream",
     "text": [
      "10\n",
      "Factorial of 10: 3628800\n",
      "10 is not a prime number.\n"
     ]
    }
   ],
   "source": [
    "#factorial.py\n",
    "\n",
    "import math\n",
    "\n",
    "\n",
    "def is_prime(n):\n",
    "  \n",
    "    if n < 2:\n",
    "        return False\n",
    "    if n == 2:\n",
    "        return True\n",
    "    if n % 2 == 0:\n",
    "        return False\n",
    "\n",
    "    max_divisor = math.isqrt(n) + 1\n",
    "    for i in range(3, max_divisor, 2):\n",
    "        if n % i == 0:\n",
    "            return False\n",
    "\n",
    "    return True\n",
    "\n",
    "\n",
    "def factorial(n):\n",
    "  \n",
    "    if n < 0:\n",
    "        raise ValueError(\"Factorial is not defined for negative numbers.\")\n",
    "    elif n == 0 or n == 1:\n",
    "        return 1\n",
    "    else:\n",
    "        return n * factorial(n - 1)\n",
    "\n",
    "#main_f_p.py\n",
    "  \n",
    "\n",
    "import factorialprime\n",
    "\n",
    "\n",
    "num = int(input())\n",
    "\n",
    "\n",
    "factorial_result = factorialprime.factorial(num)\n",
    "print(f\"Factorial of {num}: {factorial_result}\")\n",
    "\n",
    "\n",
    "if factorialprime.is_prime(num):\n",
    "    print(f\"{num} is a prime number.\")\n",
    "else:\n",
    "    print(f\"{num} is not a prime number.\")\n"
   ]
  },
  {
   "cell_type": "markdown",
   "id": "7c3a1da2",
   "metadata": {},
   "source": [
    "# 14. Write a Python script that takes two integer command-line arguments and prints their sum."
   ]
  },
  {
   "cell_type": "code",
   "execution_count": null,
   "id": "b2dc0c4d",
   "metadata": {},
   "outputs": [],
   "source": [
    "import sys\n",
    "\n",
    "\n",
    "# Check if the correct number of command-line arguments is provided\n",
    "if len(sys.argv) != 3:\n",
    "    print(\"Usage: python script_name.py <integer1> <integer2>\")\n",
    "    sys.exit(1)  # Exit with a non-zero status to indicate an error\n",
    "\n",
    "try:\n",
    "    num1 = int(sys.argv[1])\n",
    "    num2 = int(sys.argv[2])\n",
    "except ValueError:\n",
    "    print(\"Please provide valid integers.\")\n",
    "    sys.exit(1)  # Exit with a non-zero status to indicate an error\n",
    "\n",
    "result = num1 + num2\n",
    "print(f\"The sum of {num1} and {num2} is: {result}\")\n"
   ]
  },
  {
   "cell_type": "markdown",
   "id": "243e1181",
   "metadata": {},
   "source": [
    "# 12. Build a command-line calculator that accepts a mathematical expression as a string argument and evaluates it, then prints the result."
   ]
  },
  {
   "cell_type": "code",
   "execution_count": null,
   "id": "9e8a0ca4",
   "metadata": {},
   "outputs": [],
   "source": [
    "#string_expression_calculator.py\n",
    "\n",
    "import sys\n",
    "\n",
    "def string__expression_calculation(expression):\n",
    "    try:\n",
    "        result = eval(expression)\n",
    "        return result\n",
    "    except Exception as e:\n",
    "        return f\"Error: {str(e)}\"\n",
    "\n",
    "\n",
    "if len(sys.argv) != 2:\n",
    "    print(\"provide an input expression to calculate\")\n",
    "    sys.exit(1)  \n",
    "\n",
    "string_expression = sys.argv[1]\n",
    "result = string__expression_calculation(string_expression)\n",
    "\n",
    "if isinstance(result, (int, float)):\n",
    "    print(f\"Result of given string expression : {result}\")\n",
    "else:\n",
    "    print(result)\n"
   ]
  },
  {
   "cell_type": "markdown",
   "id": "af9be9ca",
   "metadata": {},
   "source": [
    "# 11. Create a Python script that accepts a text file as a command-line argument and count number of words, lines, and characters in the file."
   ]
  },
  {
   "cell_type": "code",
   "execution_count": null,
   "id": "48a802ef",
   "metadata": {},
   "outputs": [],
   "source": [
    "import sys\n",
    "\n",
    "def count_words_lines_characters(file_path):\n",
    "    word_count = 0\n",
    "    line_count = 0\n",
    "    character_count = 0\n",
    "\n",
    "    try:\n",
    "        with open(file_path, 'r') as file:\n",
    "            for line in file:\n",
    "                words = line.split()\n",
    "                word_count += len(words)\n",
    "                line_count += 1\n",
    "                character_count += len(line)\n",
    "    except FileNotFoundError:\n",
    "        return \"Error: File not found.\"\n",
    "\n",
    "    return word_count, line_count, character_count\n",
    "\n",
    "\n",
    "if len(sys.argv) != 2:\n",
    "    print(\"Usage: python word_line_char_counter.py <file_path>\")\n",
    "    sys.exit(1)  \n",
    "\n",
    "file_path = sys.argv[1]\n",
    "counts = count_words_lines_characters(file_path)\n",
    "\n",
    "if isinstance(counts, str):\n",
    "    print(counts)\n",
    "else:\n",
    "    word_count, line_count, character_count = counts\n",
    "    print(f\"Word count: {word_count}\")\n",
    "    print(f\"Line count: {line_count}\")\n",
    "    print(f\"Character count: {character_count}\")\n",
    "\n",
    "            "
   ]
  },
  {
   "cell_type": "markdown",
   "id": "b2749704",
   "metadata": {},
   "source": [
    "# 6  Read a text file containing a list of names or numbers, sort the data, and write the sorted data back to a new file."
   ]
  },
  {
   "cell_type": "code",
   "execution_count": 1,
   "id": "51eebe18",
   "metadata": {},
   "outputs": [
    {
     "name": "stdout",
     "output_type": "stream",
     "text": [
      "Sorting completed app2.txt\n"
     ]
    }
   ],
   "source": [
    "def sort_text_file(input_file, output_file):\n",
    "    with open(input_file, 'r') as file:\n",
    "        lines = file.readlines()\n",
    "        lines.sort()\n",
    "\n",
    "    with open(output_file, 'w') as sorted_file:\n",
    "        sorted_file.writelines(lines)\n",
    "\n",
    "    print(f\"Sorting completed {output_file}\")\n",
    "\n",
    "input_file = \"app.txt\"\n",
    "output_file = \"app2.txt\"\n",
    "\n",
    "sort_text_file(input_file, output_file)\n"
   ]
  },
  {
   "cell_type": "markdown",
   "id": "ee86c918",
   "metadata": {},
   "source": [
    "# 7 Write a Python script that compares two text files and identifies the differences between them, including added, modified, and deleted lines"
   ]
  },
  {
   "cell_type": "code",
   "execution_count": 4,
   "id": "bcc31761",
   "metadata": {},
   "outputs": [
    {
     "name": "stdout",
     "output_type": "stream",
     "text": [
      "Added Lines:\n",
      "\n",
      "hello there this is sample file again\n",
      "Deleted Lines:\n",
      "\n",
      "Feel free to let me know if you need anything else!\n",
      "Modified Lines:\n",
      "\n",
      "In the vast expanse of the cosmos, galaxies, each a masterpiece of nature's grand design, drift through the endless void. Stars, the celestial beacons of light and energy, illuminate the darkness of space. Planets, diverse and unique in their compositions, orbit these stars, each with its own story waiting to be told. Moons, faithful companions of planets, cast their glow upon the worlds they encircle. Comets and asteroids, nomads of the cosmic frontier, journey through the heavens, leaving traces of their travels. Nebulas, colossal clouds of gas and dust, birth new stars and shape the cosmic tapestry. The universe, a boundless canvas, invites exploration and discovery, offering glimpses of the wonders it holds.\n",
      "\n"
     ]
    }
   ],
   "source": [
    "def compare_text_files(file1_path, file2_path):\n",
    "\n",
    "    with open(file1_path, 'r', encoding='utf-8') as file1, open(file2_path, 'r', encoding='utf-8') as file2:\n",
    "        file1_lines = file1.readlines()\n",
    "        file2_lines = file2.readlines()\n",
    "\n",
    "    added_lines = [line for line in file2_lines if line not in file1_lines]\n",
    "    deleted_lines = [line for line in file1_lines if line not in file2_lines]\n",
    "    modified_lines = [line for line in file2_lines if line in file1_lines]\n",
    "\n",
    "    print(\"Added Lines:\")\n",
    "    print()\n",
    "    for line in added_lines:\n",
    "        print(line, end='')\n",
    "\n",
    "    print(\"\\nDeleted Lines:\")\n",
    "    print()\n",
    "    for line in deleted_lines:\n",
    "        print(line, end='')\n",
    "\n",
    "    print(\"\\nModified Lines:\")\n",
    "    print()\n",
    "    for line in modified_lines:\n",
    "        print(line, end='')\n",
    "\n",
    "\n",
    "\n",
    "\n",
    "file1_path = \"app.txt\" \n",
    "file2_path = \"app3.txt\" \n",
    "\n",
    "compare_text_files(file1_path, file2_path)\n"
   ]
  },
  {
   "cell_type": "markdown",
   "id": "0fe605e3",
   "metadata": {},
   "source": [
    "# 8 Develop a Python program that compresses a large text file using a compression algorithm (eg, gzip) and then decompresses it back to its original form.\n"
   ]
  },
  {
   "cell_type": "code",
   "execution_count": 2,
   "id": "22b0194e",
   "metadata": {},
   "outputs": [
    {
     "name": "stdout",
     "output_type": "stream",
     "text": [
      "Compression successful. Compressed file: app2.tar.gz\n",
      "Decompression successful. Output file: app3.txt\n"
     ]
    }
   ],
   "source": [
    "import gzip\n",
    "\n",
    "def compress_text_file(input_file, compressed_file):\n",
    "    try:\n",
    "        with open(input_file, 'rb') as source_file, gzip.open(compressed_file, 'wb') as compressed:\n",
    "            compressed.writelines(source_file)\n",
    "\n",
    "        print(f\"Compression successful. Compressed file: {compressed_file}\")\n",
    "\n",
    "    except FileNotFoundError as e:\n",
    "        print(f\"File not found: {str(e)}\")\n",
    "    except Exception as e:\n",
    "        print(f\"An error occurred: {str(e)}\")\n",
    "\n",
    "def decompress_text_file(compressed_file, output_file):\n",
    "    with gzip.open(compressed_file, 'rb') as compressed, open(output_file, 'wb') as destination_file:\n",
    "        destination_file.write(compressed.read())\n",
    "\n",
    "        print(f\"Decompression successful. Output file: {output_file}\")\n",
    "\n",
    "\n",
    "\n",
    "input_file = \"app.txt\"\n",
    "compressed_file = \"app2.tar.gz\"\n",
    "decompressed_file = \"app3.txt\"\n",
    "\n",
    "\n",
    "compress_text_file(input_file, compressed_file)\n",
    "\n",
    "\n",
    "decompress_text_file(compressed_file, decompressed_file)\n"
   ]
  },
  {
   "cell_type": "markdown",
   "id": "f5834660",
   "metadata": {},
   "source": [
    "# 9 Read a binary file (e g., an image or audio file) in Python and perform an operation, such as resizing an image or modifying audio data.\n"
   ]
  },
  {
   "cell_type": "code",
   "execution_count": 5,
   "id": "f59bd31a",
   "metadata": {},
   "outputs": [
    {
     "name": "stdout",
     "output_type": "stream",
     "text": [
      "Resizing successful. Saved as ironman2.jpg\n"
     ]
    }
   ],
   "source": [
    "from PIL import Image\n",
    "\n",
    "def resize_image(input_image_path, output_image_path, new_width, new_height):\n",
    "    image = Image.open(input_image_path)\n",
    "    resized_image = image.resize((new_width, new_height)) \n",
    "    resized_image.save(output_image_path)\n",
    "    \n",
    "    print(f\"Resizing successful. Saved as {output_image_path}\")\n",
    "    \n",
    "\n",
    "input_image_path = \"ironman.jpg\"  \n",
    "output_image_path = \"ironman2.jpg\"  \n",
    "new_width = 300  \n",
    "new_height = 200  \n",
    "\n",
    "resize_image(input_image_path, output_image_path, new_width, new_height)\n"
   ]
  },
  {
   "cell_type": "markdown",
   "id": "fc34ac76",
   "metadata": {},
   "source": [
    "# 13 Implement a Python script that takes a CSV file and two column names as command-line arguments. The script should calculate the average of values in one column and store the result in another column in the same file"
   ]
  },
  {
   "cell_type": "code",
   "execution_count": 7,
   "id": "92ca171b",
   "metadata": {},
   "outputs": [],
   "source": [
    "#csfile.py\n",
    "\n",
    "import csv\n",
    "import argparse\n",
    "\n",
    "def calculate_average_inplace(input_file, source_column, target_column):\n",
    "    try:\n",
    "        \n",
    "        with open(input_file, 'r+') as csv_file:\n",
    "           \n",
    "            csv_reader = csv.DictReader(csv_file)\n",
    "            data = list(csv_reader)\n",
    "\n",
    "            \n",
    "            total = 0\n",
    "            count = 0\n",
    "            for row in data:\n",
    "                try:\n",
    "                    value = float(row[source_column])\n",
    "                    total += value\n",
    "                    count += 1\n",
    "                except ValueError:\n",
    "                    pass  \n",
    "\n",
    "            if count > 0:\n",
    "                average = total / count\n",
    "            else:\n",
    "                average = 0\n",
    "\n",
    "            \n",
    "            csv_file.seek(0)\n",
    "            csv_writer = csv.DictWriter(csv_file, fieldnames=csv_reader.fieldnames)\n",
    "            csv_writer.writeheader()\n",
    "            \n",
    "            for row in data:\n",
    "                row[target_column] = str(average)\n",
    "                csv_writer.writerow(row)\n",
    "\n",
    "        print(f\"Average calculated and stored in the same CSV file: {input_file}.\")\n",
    "\n",
    "    except FileNotFoundError:\n",
    "        print(f\"File not found: {input_file}\")\n",
    "    except Exception as e:\n",
    "        print(f\"An error occurred: {str(e)}\")\n",
    "\n",
    "\n",
    "parser = argparse.ArgumentParser(description=\"Calculate and store the average of values in a CSV column in the same file.\")\n",
    "parser.add_argument(\"input_file\", help=\"Input CSV file\")\n",
    "parser.add_argument(\"source_column\", help=\"Source column for calculating average\")\n",
    "parser.add_argument(\"target_column\", help=\"Target column for storing the average\")\n",
    "\n",
    "args = parser.parse_args()\n",
    "\n",
    "calculate_average_inplace(args.input_file, args.source_column, args.target_column)\n",
    "\n",
    "\n"
   ]
  },
  {
   "cell_type": "markdown",
   "id": "6260da2c",
   "metadata": {},
   "source": [
    "# 10 Write a python program to Combine the contents of multiple text files into a single file using Python. Each file should be appended to the end of the resulting file."
   ]
  },
  {
   "cell_type": "code",
   "execution_count": 9,
   "id": "a05f4c80",
   "metadata": {},
   "outputs": [
    {
     "name": "stdout",
     "output_type": "stream",
     "text": [
      "Combined 2 text files into app3.txt.\n"
     ]
    }
   ],
   "source": [
    "def combine_text_files(input_files, output_file):\n",
    "    with open(output_file, 'a') as result_file:\n",
    "        for input_file in input_files:\n",
    "            with open(input_file, 'r') as file_to_append:\n",
    "                result_file.write(file_to_append.read())\n",
    "                result_file.write('\\n')\n",
    "\n",
    "    print(f\"Combined {len(input_files)} text files into {output_file}.\")\n",
    "\n",
    "input_files = [\"app.txt\", \"app2.txt\"]\n",
    "output_file = \"app3.txt\"\n",
    "\n",
    "combine_text_files(input_files, output_file)\n"
   ]
  },
  {
   "cell_type": "markdown",
   "id": "bdf90895",
   "metadata": {},
   "source": [
    "# 1. Case Study Online Shopping Cart Exception Handling without using oops and use modules \n",
    "\n",
    "\n",
    "The Meri Applie\n",
    "\n",
    "You are working as a Python developer for an e-commerce company and your team is responsible for building and maintaining the shopping cart module of the website. Customers can add items to their cart, view the cart contents, and proceed to checkout\n",
    "\n",
    "Recently, there have been reports of unexpected,crashes and errors when customers interact with their shopping carts. Your task is to investigate thele issues and improve the exception handling in the shopping cart code to make it more robust\n",
    "\n",
    "Requirements and Scenarios:\n",
    "\n",
    "Scenario 1-Adding Items to Cart:\n",
    "\n",
    "When a customer adds an item to their cart, they provide the product ID and quantity. Handle exceptions that may occur during this process, such as\n",
    "\n",
    "Product 10 not found in the product catalog Invalid quantity (eg. negative quantity or non-integer input)\n",
    "\n",
    "Scenario 2-Viewing Cart Contents:\n",
    "\n",
    "When a customer views thee cart, display the list of items and their quantities. Handle exceptions that\n",
    "\n",
    "may occur during this process, such as:\n",
    "\n",
    "Empty cart (no items added)\n",
    "\n",
    "Unexpected errors (eg. network issues when fetching cart data).\n",
    "\n",
    "Scenario 3-Proceeding to Checkout:\n",
    "\n",
    "When a customer proceeds to checkout, validate the cart and process the payment. Handle exceptions that may occur during this process, such as\n",
    "\n",
    "Insufficient stock for some items in the cart\n",
    "\n",
    "Payment gateway errors\n",
    "\n",
    "Your Tasks:\n",
    "\n",
    "Customer payment method declined.\n",
    "\n",
    "1 Review the existing shopping cart code to identify potential areas where exceptions may occur\n",
    "\n",
    "2. Enhance the exception handling in the code by adding appropriate try, except, and finally blocks to handle exceptions gracefully. Provide helpful error messages to the user where applicable\n",
    "\n",
    "3. Ensure that the program continues to run smoothly even when exceptions occur, and customers receive informative feedback 4 Test the shopping cart thoroughly with different scenarios to ensure that it handles exceptions\n",
    "\n",
    "correctly"
   ]
  },
  {
   "cell_type": "code",
   "execution_count": 14,
   "id": "d5ced95e",
   "metadata": {},
   "outputs": [
    {
     "name": "stdout",
     "output_type": "stream",
     "text": [
      "None\n",
      "Product ID: biscuits, Quantity: 3\n",
      "None\n",
      "Order processed successfully!\n",
      "None\n",
      "{'biscuits': 3}\n"
     ]
    }
   ],
   "source": [
    "#cart_functions.py\n",
    "\n",
    "def adding_to_cart(cart, product_id, quantity, product_catalog):\n",
    "    try:\n",
    "       \n",
    "        if product_id not in product_catalog:\n",
    "            raise ValueError(\"Product not found in the product catalog\")\n",
    "\n",
    "       \n",
    "        if not isinstance(quantity, int) or quantity < 0:\n",
    "            raise ValueError(\"Invalid quantity. Please enter a positive integer.\")\n",
    "\n",
    "      \n",
    "        if product_id in cart:\n",
    "            cart[product_id] += quantity\n",
    "        else:\n",
    "            cart[product_id] = quantity\n",
    "\n",
    "    except ValueError as ve:\n",
    "        return str(ve)\n",
    "\n",
    "\n",
    "\n",
    "\n",
    "\n",
    "def cart_items(cart):\n",
    "    try:\n",
    "        if not cart:\n",
    "            raise ValueError(\"The cart is empty.\")\n",
    "\n",
    "        \n",
    "        for product_id, quantity in cart.items():\n",
    "            print(f\"Product ID: {product_id}, Quantity: {quantity}\")\n",
    "\n",
    "    except ValueError as ve:\n",
    "        return str(ve)\n",
    "\n",
    "\n",
    "def checkingout(cart, product_catalog):\n",
    "    try:\n",
    "    \n",
    "        for product_id, quantity in cart.items():\n",
    "            if quantity > product_catalog.get(product_id, {}).get(\"stock\", 0):\n",
    "                raise ValueError(f\"Insufficient stock for product {product_id}\")\n",
    "\n",
    "     \n",
    "        payment_successful = True\n",
    "\n",
    "        if not payment_successful:\n",
    "            raise ValueError(\"Customer payment method declined.\")\n",
    "\n",
    "       \n",
    "        print(\"Order processed successfully!\")\n",
    "\n",
    "    except ValueError as ve:\n",
    "        return str(ve)\n",
    "\n",
    "#cart_main.py\n",
    "\n",
    "\n",
    "from cart_functions import adding_to_cart, cart_items,checkingout\n",
    "\n",
    "\n",
    "cart = {}\n",
    "product_catalog = {\n",
    "    \"chocolates\": {\"stock\": 10},\n",
    "    \"biscuits\": {\"stock\": 5},\n",
    "    \"waffers\":{\"stock\":15}\n",
    "}\n",
    "\n",
    "\n",
    "add_to_cart_response = adding_to_cart(cart, \"biscuits\", 3, product_catalog)\n",
    "print(add_to_cart_response)\n",
    "\n",
    "view_cart_response = cart_items(cart)\n",
    "print(view_cart_response)\n",
    "\n",
    "\n",
    "checkout_response = checkingout(cart, product_catalog)\n",
    "print(checkout_response)\n",
    "\n"
   ]
  },
  {
   "cell_type": "markdown",
   "id": "e2809980",
   "metadata": {},
   "source": [
    "# 2.create a function in python to check if two given strings are anagrams of each other ."
   ]
  },
  {
   "cell_type": "code",
   "execution_count": 17,
   "id": "d36ff316",
   "metadata": {},
   "outputs": [
    {
     "name": "stdout",
     "output_type": "stream",
     "text": [
      "hi\n",
      "ih\n",
      "Counter({'h': 1, 'i': 1})\n",
      "True\n"
     ]
    }
   ],
   "source": [
    "from collections import Counter\n",
    "\n",
    "def are_anagrams(str1, str2):\n",
    "   \n",
    "    str1 = str1.replace(\" \", \"\").lower()\n",
    "    str2 = str2.replace(\" \", \"\").lower()\n",
    "\n",
    "   \n",
    "    if len(str1) != len(str2):\n",
    "        return False\n",
    "\n",
    "   \n",
    "    count_str1 = Counter(str1)\n",
    "    count_str2 = Counter(str2)\n",
    "    print(count_str1)\n",
    "    print(count_str2)\n",
    "\n",
    "   \n",
    "    return count_str1 == count_str2\n",
    "\n",
    "\n",
    "input1 = input()\n",
    "input2 = input()\n",
    "print(are_anagrams(input1, input1))  \n",
    "\n"
   ]
  },
  {
   "cell_type": "code",
   "execution_count": null,
   "id": "70a86249",
   "metadata": {},
   "outputs": [],
   "source": []
  }
 ],
 "metadata": {
  "kernelspec": {
   "display_name": "Python 3 (ipykernel)",
   "language": "python",
   "name": "python3"
  },
  "language_info": {
   "codemirror_mode": {
    "name": "ipython",
    "version": 3
   },
   "file_extension": ".py",
   "mimetype": "text/x-python",
   "name": "python",
   "nbconvert_exporter": "python",
   "pygments_lexer": "ipython3",
   "version": "3.11.4"
  }
 },
 "nbformat": 4,
 "nbformat_minor": 5
}
