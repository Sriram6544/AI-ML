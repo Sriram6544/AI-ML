{
 "cells": [
  {
   "cell_type": "markdown",
   "id": "1c0ee803",
   "metadata": {},
   "source": [
    "# 1.Write a python function to list even and odd numbers in a list"
   ]
  },
  {
   "cell_type": "code",
   "execution_count": 7,
   "id": "36843f83",
   "metadata": {},
   "outputs": [
    {
     "name": "stdout",
     "output_type": "stream",
     "text": [
      "[34, 44, 66, 4, 86, 4, 56, 70, 46, 44]\n",
      "[1, 23, 45, 67, 33, 367, 31]\n"
     ]
    }
   ],
   "source": [
    "def checking_even_odd(n):\n",
    "    if i%2==0:\n",
    "        evenlst.append(i)\n",
    "    else:\n",
    "        \n",
    "        oddlst.append(i)\n",
    "  \n",
    "list_of_num=[1,34,23,45,67,44,33,66,4,367,86,4,31,56,70,46,44]\n",
    "evenlst=[]\n",
    "oddlst=[]\n",
    "        \n",
    "for i in list_of_num :\n",
    "    checking_even_odd(i)\n",
    "print(evenlst)\n",
    "print(oddlst)\n"
   ]
  },
  {
   "cell_type": "markdown",
   "id": "f4afe84a",
   "metadata": {},
   "source": [
    "# 2.Write and run a python program to that asks user to enter 8 integers(one at a time), and then prints out how many of those integers were even numbers. for example\n",
    "if the user entered 19,6,9,20,13,7,6 and 1 then your program should print out 3 since of those numbers were even."
   ]
  },
  {
   "cell_type": "code",
   "execution_count": 10,
   "id": "07e9b28d",
   "metadata": {},
   "outputs": [
    {
     "name": "stdout",
     "output_type": "stream",
     "text": [
      "54\n",
      "54\n",
      "54\n",
      "54\n",
      "54\n",
      "54\n",
      "54\n",
      "54\n",
      "8\n"
     ]
    }
   ],
   "source": [
    "def checking_even_odd(n):\n",
    "    if n%2==0:\n",
    "        return True\n",
    "    else :\n",
    "        return False\n",
    "    \n",
    "    \n",
    "    \n",
    "    \n",
    "    \n",
    "even_count=0    \n",
    "for i in range(8):\n",
    "    user_num=int(input())\n",
    "    \n",
    "    \n",
    "    if (checking_even_odd(user_num)):\n",
    "        even_count+=1\n",
    "print(even_count)\n"
   ]
  },
  {
   "cell_type": "markdown",
   "id": "3252305a",
   "metadata": {},
   "source": [
    "# Write a python program to print any positive integer n, if n is even , divide it by 2 to get n/2. \n",
    "if n is odd . multiply it by 3 and add 1 to obtain 3n+1. Repeat the process until you reach 1."
   ]
  },
  {
   "cell_type": "code",
   "execution_count": 16,
   "id": "97c463f8",
   "metadata": {},
   "outputs": [
    {
     "name": "stdout",
     "output_type": "stream",
     "text": [
      "14\n"
     ]
    },
    {
     "data": {
      "text/plain": [
       "[7, 22, 11, 34, 17, 52, 26, 13, 40, 20, 10, 5, 16, 8, 4, 2, 1]"
      ]
     },
     "execution_count": 16,
     "metadata": {},
     "output_type": "execute_result"
    }
   ],
   "source": [
    "def process_until_1(user_given_num):\n",
    "    if user_given_num<0:\n",
    "        print(\"please enter a positive integer\")\n",
    "    num_ls=[]\n",
    "    while user_given_num >1:\n",
    "        if user_given_num%2==0:\n",
    "            \n",
    "            user_given_num= user_given_num/2\n",
    "            num_ls.append(int(user_given_num))\n",
    "        else:\n",
    "            user_given_num= (int(user_given_num)*3)+1\n",
    "            num_ls.append(user_given_num)\n",
    "    return num_ls\n",
    "\n",
    "        \n",
    "user_given_num=int(input())\n",
    "process_until_1(user_given_num)\n",
    "            \n",
    "        "
   ]
  },
  {
   "cell_type": "markdown",
   "id": "6db88980",
   "metadata": {},
   "source": [
    "# 4.write a python program to compute the sum of all the multiples of 3 or 5 below 500."
   ]
  },
  {
   "cell_type": "code",
   "execution_count": 22,
   "id": "8dd3aed2",
   "metadata": {},
   "outputs": [
    {
     "name": "stdout",
     "output_type": "stream",
     "text": [
      "[3, 5, 6, 9, 10, 12, 15, 18, 20, 21, 24, 25, 27, 30, 33, 35, 36, 39, 40, 42, 45, 48, 50, 51, 54, 55, 57, 60, 63, 65, 66, 69, 70, 72, 75, 78, 80, 81, 84, 85, 87, 90, 93, 95, 96, 99, 100, 102, 105, 108, 110, 111, 114, 115, 117, 120, 123, 125, 126, 129, 130, 132, 135, 138, 140, 141, 144, 145, 147, 150, 153, 155, 156, 159, 160, 162, 165, 168, 170, 171, 174, 175, 177, 180, 183, 185, 186, 189, 190, 192, 195, 198, 200, 201, 204, 205, 207, 210, 213, 215, 216, 219, 220, 222, 225, 228, 230, 231, 234, 235, 237, 240, 243, 245, 246, 249, 250, 252, 255, 258, 260, 261, 264, 265, 267, 270, 273, 275, 276, 279, 280, 282, 285, 288, 290, 291, 294, 295, 297, 300, 303, 305, 306, 309, 310, 312, 315, 318, 320, 321, 324, 325, 327, 330, 333, 335, 336, 339, 340, 342, 345, 348, 350, 351, 354, 355, 357, 360, 363, 365, 366, 369, 370, 372, 375, 378, 380, 381, 384, 385, 387, 390, 393, 395, 396, 399, 400, 402, 405, 408, 410, 411, 414, 415, 417, 420, 423, 425, 426, 429, 430, 432, 435, 438, 440, 441, 444, 445, 447, 450, 453, 455, 456, 459, 460, 462, 465, 468, 470, 471, 474, 475, 477, 480, 483, 485, 486, 489, 490, 492, 495, 498, 500]\n"
     ]
    }
   ],
   "source": [
    "multiple_lst=[]\n",
    "for i in range(1,501):\n",
    "    if i%3==0 or i%5==0:\n",
    "        multiple_lst.append(i)\n",
    "    else:\n",
    "        continue\n",
    "print(multiple_lst)"
   ]
  },
  {
   "cell_type": "markdown",
   "id": "e5a821bd",
   "metadata": {},
   "source": [
    "# 5.To write a python program to find first\"n\" prime numbers from given list of numbers."
   ]
  },
  {
   "cell_type": "code",
   "execution_count": 25,
   "id": "903bcf45",
   "metadata": {},
   "outputs": [
    {
     "name": "stdout",
     "output_type": "stream",
     "text": [
      "[2, 3, 3, 5, 7, 7, 11, 29, 53]\n"
     ]
    }
   ],
   "source": [
    "def check_if_prime(n):\n",
    " \n",
    "  if(n==1 or n==0):\n",
    "    return False\n",
    "   \n",
    " \n",
    "  for i in range(2,n):\n",
    "   \n",
    "    if(n%i==0):\n",
    "      return False\n",
    "   \n",
    "  \n",
    "  return True\n",
    "list_of_norm_num=[2,3,5,6,7,33,44,66,32,4,53,29,22,11,3,7,8]\n",
    "prime_num_list=[]\n",
    "for i in list_of_norm_num:\n",
    "    if(check_if_prime(i)):\n",
    "        prime_num_list.append(i)\n",
    "prime_num_list.sort()\n",
    "print(prime_num_list)"
   ]
  },
  {
   "cell_type": "markdown",
   "id": "a77a5587",
   "metadata": {},
   "source": [
    "# 6.To write a python program to compute Matrix multiplication."
   ]
  },
  {
   "cell_type": "code",
   "execution_count": 34,
   "id": "cabf0910",
   "metadata": {},
   "outputs": [
    {
     "name": "stdout",
     "output_type": "stream",
     "text": [
      "[[3567, 1440, 2178], [675, 1005, 616], [6566, 170, 198]]\n"
     ]
    }
   ],
   "source": [
    "def add_two_matrices(first_matrix, second_matrix):\n",
    "\n",
    "  result_matrix = []\n",
    "\n",
    "  for i in range(len(first_matrix)):\n",
    "\n",
    "    row_result = []\n",
    "\n",
    "    for j in range(len(second_matrix)):\n",
    "\n",
    "      value = first_matrix[i][j] * second_matrix[i][j]\n",
    "\n",
    "      row_result.append(value)\n",
    "\n",
    "    result_matrix.append(row_result)\n",
    "\n",
    "  return result_matrix\n",
    "\n",
    "first_matrix=[[41,32,33],[15,15,14],[67,5,6]]\n",
    "second_matrix=[[87,45,66],[45,67,44],[98,34,33]]\n",
    "res=add_two_matrices(first_matrix, second_matrix)\n",
    "print(res)"
   ]
  },
  {
   "cell_type": "markdown",
   "id": "720dae1a",
   "metadata": {},
   "source": [
    "# 7.write a python program to fucntion to count the number of vowels in a string."
   ]
  },
  {
   "cell_type": "code",
   "execution_count": 36,
   "id": "821a2fc2",
   "metadata": {
    "scrolled": true
   },
   "outputs": [
    {
     "name": "stdout",
     "output_type": "stream",
     "text": [
      "heelloo python hhaaaa\n",
      "9\n"
     ]
    }
   ],
   "source": [
    "string_to_check=input()\n",
    "lst=list(string_to_check)\n",
    "vowels=\"AEIOUaeiou\"\n",
    "count=0\n",
    "for i in lst:\n",
    "    if i in vowels:\n",
    "        count+=1\n",
    "print(count)"
   ]
  },
  {
   "cell_type": "markdown",
   "id": "476df326",
   "metadata": {},
   "source": [
    "# 8.write a python program to find factorial for the given number using recursive function."
   ]
  },
  {
   "cell_type": "code",
   "execution_count": 44,
   "id": "fda1350c",
   "metadata": {},
   "outputs": [
    {
     "name": "stdout",
     "output_type": "stream",
     "text": [
      "4\n",
      "The factorial of 4 is 24\n"
     ]
    }
   ],
   "source": [
    "def factorial_of_number(n):\n",
    "    if n == 0:\n",
    "        print(\"The factorial of 0 is 1\")\n",
    "    else:\n",
    "        return n * factorial(n - 1)\n",
    "\n",
    "# Input from the user\n",
    "user_num = int(input())\n",
    "\n",
    "if num < 0:\n",
    "    print(\"please provde positive number\")\n",
    "\n",
    "else:\n",
    "    result = factorial_of_number(user_num )\n",
    "    print(f\"The factorial of {user_num } is {result}\")\n",
    "\n"
   ]
  },
  {
   "cell_type": "markdown",
   "id": "aac12728",
   "metadata": {},
   "source": [
    "# 9.write a python function for generating fibonacci series using the function."
   ]
  },
  {
   "cell_type": "code",
   "execution_count": 9,
   "id": "e500c71b",
   "metadata": {},
   "outputs": [
    {
     "name": "stdout",
     "output_type": "stream",
     "text": [
      "[0, 1, 1, 2, 3, 5, 8, 13, 21, 34, 55, 89]\n"
     ]
    }
   ],
   "source": [
    "def fibo_series():\n",
    "    \n",
    "    fibo_list = [0, 1]\n",
    "\n",
    "    N = 10\n",
    "    term_val = 1\n",
    "    while term_val < N + 1:\n",
    "        value = fibo_list[term_val - 0] + fibo_list[term_val - 1]\n",
    "        fibo_list.append(value)\n",
    "        term_val = term_val + 1\n",
    "\n",
    "    return(fibo_list)\n",
    "fib_series=fibo_series()\n",
    "print(fib_series)\n",
    "    \n",
    "    "
   ]
  },
  {
   "cell_type": "markdown",
   "id": "d0f3dd32",
   "metadata": {},
   "source": [
    "# 10.Python program to display the given integer in reverse order using the function without a built in function\n"
   ]
  },
  {
   "cell_type": "code",
   "execution_count": 12,
   "id": "ffd1ae2c",
   "metadata": {},
   "outputs": [
    {
     "name": "stdout",
     "output_type": "stream",
     "text": [
      "45664\n",
      "46654\n"
     ]
    }
   ],
   "source": [
    "def reverse_function(integer):\n",
    "    integer_str=str(integer)\n",
    "    print(integer_str[::-1])\n",
    "integer=int(input())\n",
    "reverse_function(integer)\n"
   ]
  },
  {
   "cell_type": "markdown",
   "id": "db3542b4",
   "metadata": {},
   "source": [
    "# 11.write a python program to display all the integers within the range 200-300 whose sum of digits is an even number"
   ]
  },
  {
   "cell_type": "code",
   "execution_count": 19,
   "id": "799116b4",
   "metadata": {},
   "outputs": [
    {
     "name": "stdout",
     "output_type": "stream",
     "text": [
      "[200, 202, 204, 206, 208, 211, 213, 215, 217, 219, 220, 222, 224, 226, 228, 231, 233, 235, 237, 239, 240, 242, 244, 246, 248, 251, 253, 255, 257, 259, 260, 262, 264, 266, 268, 271, 273, 275, 277, 279, 280, 282, 284, 286, 288, 291, 293, 295, 297, 299]\n"
     ]
    }
   ],
   "source": [
    "def integ_to_string(i):\n",
    "    int_str=str(i)\n",
    "    sum=0\n",
    "    for i in int_str:\n",
    "        sum+=int(i)\n",
    "        \n",
    "    return sum\n",
    "        \n",
    "    \n",
    "  \n",
    "final_ls=[]\n",
    "    \n",
    "    \n",
    "for i in range(200,301):\n",
    "    ls=integ_to_string(i)\n",
    "    if ls%2==0:\n",
    "        final_ls.append(i)\n",
    "    else:\n",
    "        continue\n",
    "print(final_ls)\n",
    "    "
   ]
  },
  {
   "cell_type": "markdown",
   "id": "323a9ee2",
   "metadata": {},
   "source": [
    "# 12.Write a python Function to find the number of digits and sum of digits for a given integer"
   ]
  },
  {
   "cell_type": "code",
   "execution_count": 52,
   "id": "4c50792b",
   "metadata": {},
   "outputs": [
    {
     "name": "stdout",
     "output_type": "stream",
     "text": [
      "2\n",
      "number of digits: 1\n",
      "sum of digits : 2\n"
     ]
    }
   ],
   "source": [
    "\n",
    "def integ_to_string(i):\n",
    "    int_str=str(i)\n",
    "    sum=0\n",
    "    for i in int_str:\n",
    "        sum+=int(i)\n",
    "        \n",
    "    return sum\n",
    "        \n",
    "    \n",
    "  \n",
    "final_ls=[]\n",
    "a=int(input())\n",
    "str_=integ_to_string(a)\n",
    "count=len(str(a))\n",
    "print(\"number of digits:\",count)\n",
    "print(\"sum of digits :\",str_)\n",
    "\n"
   ]
  },
  {
   "cell_type": "markdown",
   "id": "b54ac9f6",
   "metadata": {},
   "source": [
    "# 13.Write function called is_sorted that takes a list as a parameter and returns True if the list is sorted in ascending order and False\n",
    "otherwise and has_duplicates that takes a list and returns True if there is any element that appears more than once. it should not modify the original list."
   ]
  },
  {
   "cell_type": "code",
   "execution_count": 35,
   "id": "cfc1a8d6",
   "metadata": {},
   "outputs": [
    {
     "name": "stdout",
     "output_type": "stream",
     "text": [
      "The given list is sorted in ascending order\n",
      "The given list contains duplicates\n"
     ]
    }
   ],
   "source": [
    "def is_sorted(main_list):\n",
    "    cop_list=main_list[0:]\n",
    "    main_list.sort()\n",
    "    if cop_list==main_list:\n",
    "        print(\"The given list is sorted in ascending order\")\n",
    "    else:\n",
    "        print(\"The given list is sorted in ascending order\")\n",
    "def has_duplicates(main_list):\n",
    "        main_list.sort()  \n",
    "        for i in range(1, len(main_list)):  \n",
    "            for j in range(0, i):  \n",
    "                if main_list[i] == main_list[i-1]:  \n",
    "                    return True\n",
    "            return False\n",
    "        \n",
    "main_list=[2,54,6,2,2,1,1,2,4,8,7,9,6,4]\n",
    "is_sorted(main_list)\n",
    "if (has_duplicates(main_list)):\n",
    "    print(\"The given list contains duplicates\")\n",
    "else:\n",
    "    print(\"the given list contains no duplicates\")"
   ]
  },
  {
   "cell_type": "markdown",
   "id": "cbd3228c",
   "metadata": {},
   "source": [
    "# 14.Write functions called nested_sum that takes a list of integers and adds up the elements from all the nested lists and cumsum that takes a list of numbers and returns the cumulative sum, that is, a new lisr where the ith element is the sum of the firts i+1 elements from the original list."
   ]
  },
  {
   "cell_type": "code",
   "execution_count": 46,
   "id": "edb94145",
   "metadata": {},
   "outputs": [
    {
     "name": "stdout",
     "output_type": "stream",
     "text": [
      "130\n"
     ]
    },
    {
     "data": {
      "text/plain": [
       "[10, 30, 60, 100, 150]"
      ]
     },
     "execution_count": 46,
     "metadata": {},
     "output_type": "execute_result"
    }
   ],
   "source": [
    "def nested_sum(nes_lst):\n",
    "    nes_sum=0\n",
    "    for i in range(len(nes_lst)):\n",
    "        for j in range(len(nes_lst[i])):\n",
    "            nes_sum=nes_sum+nes_lst[i][j]\n",
    "    print(nes_sum)\n",
    "nes_lst=[[1,24,3,3],[34,4,4],[7,5,43,2]]\n",
    "nested_sum(nes_lst)\n",
    "\n",
    "def cumsum(norm_list):\n",
    "\tcum_list = []\n",
    "\tlength = len(norm_list)\n",
    "\tcum_list = [sum(norm_list[0:x:1]) for x in range(0, length+1)]\n",
    "\treturn cum_list[1:]\n",
    "\n",
    "\n",
    "norm_list = [10, 20, 30, 40, 50]\n",
    "\n",
    "cumsum(norm_list)"
   ]
  },
  {
   "cell_type": "code",
   "execution_count": null,
   "id": "2b41d043",
   "metadata": {},
   "outputs": [],
   "source": []
  }
 ],
 "metadata": {
  "kernelspec": {
   "display_name": "Python 3 (ipykernel)",
   "language": "python",
   "name": "python3"
  },
  "language_info": {
   "codemirror_mode": {
    "name": "ipython",
    "version": 3
   },
   "file_extension": ".py",
   "mimetype": "text/x-python",
   "name": "python",
   "nbconvert_exporter": "python",
   "pygments_lexer": "ipython3",
   "version": "3.11.4"
  }
 },
 "nbformat": 4,
 "nbformat_minor": 5
}
