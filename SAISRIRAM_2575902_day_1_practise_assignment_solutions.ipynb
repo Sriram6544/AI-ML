{
 "cells": [
  {
   "cell_type": "markdown",
   "id": "546fc3ea",
   "metadata": {},
   "source": [
    "# 1.Manipulate using a list.\n",
    "    i.  To add new element to the end of the list.\n",
    "    ii. To reverse elements in the list.\n",
    "    iii.To display the same list of elements multiple times.\n",
    "    iv. TO concatenate two list.\n",
    "    v.  To sort the elements in the list in ascending order."
   ]
  },
  {
   "cell_type": "code",
   "execution_count": 6,
   "id": "672b9759",
   "metadata": {},
   "outputs": [
    {
     "name": "stdout",
     "output_type": "stream",
     "text": [
      "new list wih appended items: ['sriram', 1, 2, 3, 'ASE', 123]\n",
      "new list wih appended items: ['sriram', 1, 2, 3, 'ASE', 123, 'Python']\n"
     ]
    }
   ],
   "source": [
    "#i. To add new element to the end of the list.\n",
    "\n",
    "list_a=[\"sriram\",1,2,3,\"ASE\"]\n",
    "list_a.append(123)\n",
    "print(\"new list wih appended items:\",list_a)\n",
    "list_a.append(\"Python\")\n",
    "print(\"new list wih appended items:\",list_a)"
   ]
  },
  {
   "cell_type": "code",
   "execution_count": 73,
   "id": "ee081a1f",
   "metadata": {},
   "outputs": [
    {
     "name": "stdout",
     "output_type": "stream",
     "text": [
      "['sriram', 1, 2, 3, 'ASE', 123, 'Python']\n",
      "reversed list : ['Python', 123, 'ASE', 3, 2, 1, 'sriram']\n",
      "['Python', 123, 'ASE', 3, 2, 1, 'sriram']\n"
     ]
    }
   ],
   "source": [
    "#ii. To reverse elements in the list.\n",
    "\n",
    "list_a=['sriram', 1, 2, 3, 'ASE', 123, 'Python']\n",
    "print(list_a)\n",
    "\n",
    "list_a.reverse()\n",
    "\n",
    "print(\"reversed list :\",list_a)\n",
    "print(list_a)\n",
    "\n",
    "\n",
    "\n",
    "\n",
    "\n"
   ]
  },
  {
   "cell_type": "code",
   "execution_count": 74,
   "id": "9c101818",
   "metadata": {},
   "outputs": [
    {
     "name": "stdout",
     "output_type": "stream",
     "text": [
      "['sriram', 1, 2, 3, 'ASE', 123, 'Python', 'sriram', 1, 2, 3, 'ASE', 123, 'Python', 'sriram', 1, 2, 3, 'ASE', 123, 'Python']\n",
      "['sriram', 1, 2, 3, 'ASE', 123, 'Python']\n",
      "['sriram', 1, 2, 3, 'ASE', 123, 'Python']\n",
      "['sriram', 1, 2, 3, 'ASE', 123, 'Python']\n"
     ]
    }
   ],
   "source": [
    "#iii. To display the same list of elements multiple times.\n",
    "list_a.reverse()\n",
    "print(list_a*3)\n",
    "\n",
    "for i in range(0,3):\n",
    "    print(list_a)"
   ]
  },
  {
   "cell_type": "code",
   "execution_count": 19,
   "id": "31713b01",
   "metadata": {},
   "outputs": [
    {
     "name": "stdout",
     "output_type": "stream",
     "text": [
      "concatenated_list : [1, 23, 4, 5, False, 7, 8, 9.0, True]\n"
     ]
    }
   ],
   "source": [
    "#iv.  TO concatenate two list.\n",
    "\n",
    "list_b=[1,23,4,5,False]\n",
    "list_c=[7,8,9.0,True]\n",
    "list_d=list_b+list_c\n",
    "print(\"concatenated_list :\" ,list_d)"
   ]
  },
  {
   "cell_type": "code",
   "execution_count": 21,
   "id": "c30a8978",
   "metadata": {},
   "outputs": [
    {
     "name": "stdout",
     "output_type": "stream",
     "text": [
      "Sorted_list: [0, 2, 3, 3, 3, 4, 5, 5, 7, 8, 85, 90]\n"
     ]
    }
   ],
   "source": [
    "#v.  To sort the elements in the list in ascending order.\n",
    "\n",
    "list_numbers=[7,8,3,5,0,2,3,4,5,85,3,90]\n",
    "list_numbers.sort()\n",
    "print(\"Sorted_list:\",list_numbers)"
   ]
  },
  {
   "cell_type": "markdown",
   "id": "df77f9ee",
   "metadata": {},
   "source": [
    "# 2.Write a python program to do in the tuples.\n",
    "i.   TO add new elements to the end of the tuples.\n",
    "\n",
    "ii.  TO reverse elements to the end of the tuples.\n",
    "\n",
    "iii. TO display the elements of the same tuples multiple times.\n",
    "\n",
    "iv.  TO concatenate two tuples.\n",
    "\n",
    "v.   To sort the elements in the list in ascending order."
   ]
  },
  {
   "cell_type": "code",
   "execution_count": 24,
   "id": "0f0246f9",
   "metadata": {},
   "outputs": [
    {
     "name": "stdout",
     "output_type": "stream",
     "text": [
      "('a', 'b', 'c', 1, 2, 3, 9.3)\n",
      "('a', 'b', 'c', 1, 2, 3, 9.3, 'added tuple_to_list_item')\n"
     ]
    }
   ],
   "source": [
    "#i.   TO add new elements to the end of the tuples.\n",
    "  \n",
    "tuple_a = (\"a\", \"b\", \"c\", 1, 2,3,9.3)\n",
    "print(tuple_a)\n",
    "\n",
    "'''tuples are immutable so we cant add an element to tuple_a rather\n",
    "   we can type cast tuple_a into list and can add an element and \n",
    "   convert  it back into tuple'''\n",
    "    \n",
    "tuple_to_list=list(tuple_a)\n",
    "\n",
    "tuple_to_list.append(\"added tuple_to_list_item\") \n",
    "\n",
    "tuple_a = tuple(tuple_to_list)\n",
    "print(tuple_a)\n",
    "    "
   ]
  },
  {
   "cell_type": "code",
   "execution_count": 35,
   "id": "3f4a5dbb",
   "metadata": {},
   "outputs": [
    {
     "name": "stdout",
     "output_type": "stream",
     "text": [
      "reversed tuple: ('added tuple_to_list_item', 9.3, 3, 2, 1, 'c', 'b', 'a')\n",
      "('added tuple_to_list_item', 9.3, 3, 2, 1, 'c', 'b', 'a')\n"
     ]
    }
   ],
   "source": [
    "#ii.  TO reverse elements to the end of the tuples.\n",
    "\n",
    "print(\"reversed tuple:\",tuple_a[::-1])\n",
    "\n",
    "reversed_tuple =tuple(reversed(tuple_a))\n",
    "\n",
    "print(reversed_tuple)"
   ]
  },
  {
   "cell_type": "code",
   "execution_count": 39,
   "id": "f19946c3",
   "metadata": {},
   "outputs": [
    {
     "name": "stdout",
     "output_type": "stream",
     "text": [
      "('a', 'b', 'c', 1, 2, 3, 9.3, 'added tuple_to_list_item', 'a', 'b', 'c', 1, 2, 3, 9.3, 'added tuple_to_list_item')\n",
      "('a', 'b', 'c', 1, 2, 3, 9.3, 'added tuple_to_list_item')\n",
      "('a', 'b', 'c', 1, 2, 3, 9.3, 'added tuple_to_list_item')\n",
      "('a', 'b', 'c', 1, 2, 3, 9.3, 'added tuple_to_list_item')\n"
     ]
    }
   ],
   "source": [
    "#iii TO display the elements of the same tuples multiple times.\n",
    "print(tuple_a*2)\n",
    "     \n",
    "for i in range(0,3):\n",
    "    print(tuple_a)"
   ]
  },
  {
   "cell_type": "code",
   "execution_count": 41,
   "id": "046b3ba4",
   "metadata": {},
   "outputs": [
    {
     "name": "stdout",
     "output_type": "stream",
     "text": [
      "concatenated tuple: (1, 2, 3, 4, 6, 9.0, 'fg', 3, 4, 5, 6, 'gh')\n"
     ]
    }
   ],
   "source": [
    "#iv.  TO concatenate two tuples.\n",
    "\n",
    "tuple_b=(1,2,3,4,6,9.0,\"fg\")\n",
    "tuple_c =(3,4,5,6,\"gh\")\n",
    "tuple_d = tuple_b+tuple_c\n",
    "print(\"concatenated tuple:\",tuple_d)\n"
   ]
  },
  {
   "cell_type": "code",
   "execution_count": 46,
   "id": "a8f05bc1",
   "metadata": {},
   "outputs": [
    {
     "name": "stdout",
     "output_type": "stream",
     "text": [
      "sorted_tuple: (0, 3, 3, 4, 6, 6, 7, 7, 8, 9, 35, 42, 65, 76, 98)\n"
     ]
    }
   ],
   "source": [
    " # v. To sort the elements in the list in ascending order.\n",
    "\n",
    "tuple_unsorted =(7,3,6,9,3,0,42,6,8,4,65,7,76,35,98)\n",
    "\n",
    "sorted_tuple = tuple(sorted(tuple_unsorted))\n",
    "\n",
    "print(\"sorted_tuple:\",sorted_tuple)"
   ]
  },
  {
   "cell_type": "markdown",
   "id": "5e839f52",
   "metadata": {},
   "source": [
    "# 3.Write a python program to implement the following using list.\n",
    "\n",
    "\n",
    "i.   create a list with integers (minimum 10 numbers)\n",
    "\n",
    "ii.  How ot display the last number in the list.\n",
    "\n",
    "iii. Command for displaying the values from the list[0:4]\n",
    "\n",
    "iv.  Command for displaying the values from the list[2:]\n",
    "\n",
    "v.   Command for displaying the values from the list[:6]"
   ]
  },
  {
   "cell_type": "code",
   "execution_count": 48,
   "id": "ca86b3fc",
   "metadata": {},
   "outputs": [
    {
     "name": "stdout",
     "output_type": "stream",
     "text": [
      "[25, 75, 90, 22, 56, 78, 54, 69, 43, 67, 86, 54, 34, 33, 45]\n"
     ]
    }
   ],
   "source": [
    "#i. create a list with integers (minimum 10 numbers)\n",
    "list_s = [25,75,90,22,56,78,54,69,43,67,86,54,34,33,45]\n",
    "print(list_s)\n"
   ]
  },
  {
   "cell_type": "code",
   "execution_count": 52,
   "id": "5aa83c4a",
   "metadata": {},
   "outputs": [
    {
     "name": "stdout",
     "output_type": "stream",
     "text": [
      "last number of list is: 45\n",
      "45\n"
     ]
    }
   ],
   "source": [
    "#ii. How ot display the last number in the list.\n",
    "print(\"last number of list is:\",list_s[-1])#we can fine last number by negative indedxing\n",
    "\n",
    "print(list_s[len(list_s)-1])#we can alos find it by finding length and using n-1 of length of list\n"
   ]
  },
  {
   "cell_type": "code",
   "execution_count": 53,
   "id": "98c47c64",
   "metadata": {},
   "outputs": [
    {
     "name": "stdout",
     "output_type": "stream",
     "text": [
      "[25, 75, 90, 22]\n"
     ]
    }
   ],
   "source": [
    "#iii. Command for displaying the values from the list[0:4]\n",
    "print(list_s[0:4])"
   ]
  },
  {
   "cell_type": "code",
   "execution_count": 54,
   "id": "4c01a3c0",
   "metadata": {},
   "outputs": [
    {
     "name": "stdout",
     "output_type": "stream",
     "text": [
      "[90, 22, 56, 78, 54, 69, 43, 67, 86, 54, 34, 33, 45]\n"
     ]
    }
   ],
   "source": [
    "#iv. Command for displaying the values from the list[2:]\n",
    "print(list_s[2:])"
   ]
  },
  {
   "cell_type": "code",
   "execution_count": 56,
   "id": "8eedcab9",
   "metadata": {},
   "outputs": [
    {
     "name": "stdout",
     "output_type": "stream",
     "text": [
      "[25, 75, 90, 22, 56, 78]\n"
     ]
    }
   ],
   "source": [
    "#v. Command for displaying the values from the list[:6]\n",
    "print(list_s[:6])"
   ]
  },
  {
   "cell_type": "markdown",
   "id": "a926d3ec",
   "metadata": {},
   "source": [
    "# 4.Write a python program :tuple1=(10,50,20,40,30)\n",
    "\n",
    "    i. To display the elements 10 and 50 from tuple1.\n",
    "    ii. TO display the length of a tuple 1.\n",
    "    iii. TO find the minimum elements from tuple1\n",
    "    iv. To add all the elements in the tuple1.\n",
    "    v.TO display the same tuple1 multiple times."
   ]
  },
  {
   "cell_type": "code",
   "execution_count": 76,
   "id": "e129e49c",
   "metadata": {},
   "outputs": [
    {
     "name": "stdout",
     "output_type": "stream",
     "text": [
      "(10, 50)\n"
     ]
    }
   ],
   "source": [
    "#i. To display the elements 10 and 50 from tuple1.\n",
    "tuple_1=(10,50,20,40,30)\n",
    "\n",
    "print(tuple_1[0:2])"
   ]
  },
  {
   "cell_type": "code",
   "execution_count": 77,
   "id": "e8f6479e",
   "metadata": {},
   "outputs": [
    {
     "name": "stdout",
     "output_type": "stream",
     "text": [
      "5\n"
     ]
    }
   ],
   "source": [
    "#ii. TO display the length of a tuple 1.\n",
    "print(len(tuple_1))"
   ]
  },
  {
   "cell_type": "code",
   "execution_count": 78,
   "id": "3e592028",
   "metadata": {},
   "outputs": [
    {
     "name": "stdout",
     "output_type": "stream",
     "text": [
      "10\n"
     ]
    }
   ],
   "source": [
    "#iii. TO find the minimum elements from tuple1\n",
    "print(min(tuple_1))"
   ]
  },
  {
   "cell_type": "code",
   "execution_count": 82,
   "id": "e9b61071",
   "metadata": {},
   "outputs": [
    {
     "name": "stdout",
     "output_type": "stream",
     "text": [
      "150\n",
      "sum is: 150\n"
     ]
    }
   ],
   "source": [
    "#iv. To add all the elements in the tuple1.\n",
    "print(sum(tuple_1))\n",
    "\n",
    "sum_of_tuple_1=0\n",
    "\n",
    "for i in range(0,len(tuple_1)):\n",
    "    sum_of_tuple_1=sum_of_tuple_1+tuple_1[i]\n",
    "print(\"sum is:\",sum_of_tuple_1)\n",
    "    "
   ]
  },
  {
   "cell_type": "code",
   "execution_count": 84,
   "id": "a0ef8ec3",
   "metadata": {},
   "outputs": [
    {
     "name": "stdout",
     "output_type": "stream",
     "text": [
      "(10, 50, 20, 40, 30)\n",
      "(10, 50, 20, 40, 30)\n",
      "(10, 50, 20, 40, 30)\n",
      "(10, 50, 20, 40, 30)\n",
      "(10, 50, 20, 40, 30)\n"
     ]
    }
   ],
   "source": [
    "#v.TO display the same tuple1 multiple times.\n",
    "for i in  range(len(tuple_1)):\n",
    "    print(tuple_1)"
   ]
  },
  {
   "cell_type": "markdown",
   "id": "40683544",
   "metadata": {},
   "source": [
    "# 5.Write a python program\n",
    " \n",
    "i. TO calculate the length in a string.\n",
    "ii. TO reverse words in a string.\n",
    "iii. To display the same string multiple times.\n",
    "iv.  To concatenate two strings\n",
    "v. Str1=\"South india\", using string slicing to display\"india\""
   ]
  },
  {
   "cell_type": "code",
   "execution_count": 85,
   "id": "fa0af9a7",
   "metadata": {},
   "outputs": [
    {
     "name": "stdout",
     "output_type": "stream",
     "text": [
      "11\n"
     ]
    }
   ],
   "source": [
    "#i. TO calculate the length in a string. \n",
    "str1=\"South india\"\n",
    "str2=\"North india\"\n",
    "\n",
    "print(len(str1))"
   ]
  },
  {
   "cell_type": "code",
   "execution_count": 87,
   "id": "4714f57e",
   "metadata": {},
   "outputs": [
    {
     "name": "stdout",
     "output_type": "stream",
     "text": [
      "aidni htuoS\n"
     ]
    }
   ],
   "source": [
    "#ii. TO reverse words in a string.\n",
    "\n",
    "print(str1[::-1])"
   ]
  },
  {
   "cell_type": "code",
   "execution_count": 90,
   "id": "8f18452f",
   "metadata": {},
   "outputs": [
    {
     "name": "stdout",
     "output_type": "stream",
     "text": [
      "South india\n",
      "South india\n",
      "South india\n",
      "South india\n",
      "South india\n",
      "South india\n",
      "South india\n"
     ]
    }
   ],
   "source": [
    "# iii. To display the same string\n",
    "for i in range(len(str1)-4):\n",
    "    print(str1)"
   ]
  },
  {
   "cell_type": "code",
   "execution_count": 94,
   "id": "dcbfe89a",
   "metadata": {},
   "outputs": [
    {
     "name": "stdout",
     "output_type": "stream",
     "text": [
      "South india & North india\n"
     ]
    }
   ],
   "source": [
    "#iv. To concatenate two strings\n",
    "print(str1+\" & \" +str2)"
   ]
  },
  {
   "cell_type": "code",
   "execution_count": 95,
   "id": "ef84ef74",
   "metadata": {},
   "outputs": [
    {
     "name": "stdout",
     "output_type": "stream",
     "text": [
      "india\n"
     ]
    }
   ],
   "source": [
    "#v. Str1=\"South india\", using string slicing to display\"india\"\n",
    "print(str1[6:])"
   ]
  },
  {
   "cell_type": "markdown",
   "id": "537ebc56",
   "metadata": {},
   "source": [
    "# 6.perform the following\n",
    "\n",
    "i.Creating a dictionary\n",
    "ii. Accesing values and keys in dictionary\n",
    "iii. updating the dictionary using a fucntion\n",
    "iv.clear and delete dictionary values"
   ]
  },
  {
   "cell_type": "code",
   "execution_count": 112,
   "id": "aaa44bce",
   "metadata": {},
   "outputs": [
    {
     "name": "stdout",
     "output_type": "stream",
     "text": [
      "{'name': 'sriram', 'roll-no': 25, 'age': 22, 'role': 'ASE'}\n"
     ]
    }
   ],
   "source": [
    "#i.Creating a dictionary\n",
    "dict_a={\n",
    "    \"name\": \"sriram\",\n",
    "    \"roll-no\": 25,\n",
    "    \"age\":22,\n",
    "    \"role\":\"ASE\"\n",
    "}\n",
    "print(dict_a)"
   ]
  },
  {
   "cell_type": "code",
   "execution_count": 99,
   "id": "8f959d8a",
   "metadata": {},
   "outputs": [
    {
     "name": "stdout",
     "output_type": "stream",
     "text": [
      "sriram\n",
      "sriram\n"
     ]
    }
   ],
   "source": [
    "#ii. Accesing values and keys in dictionary\n",
    "print(dict_a[\"name\"])\n",
    "print(dict_a.get(\"name\"))"
   ]
  },
  {
   "cell_type": "code",
   "execution_count": 105,
   "id": "1a0c13ab",
   "metadata": {},
   "outputs": [
    {
     "name": "stdout",
     "output_type": "stream",
     "text": [
      "{'name': 'sriram', 'roll-no': 75, 'age': 22, 'role': 'ASE', 'games': 'cricket'}\n",
      "{'name': 'sriram', 'roll-no': 75, 'age': 22, 'role': 'ASE', 'games': 'cricket'}\n"
     ]
    }
   ],
   "source": [
    "#iii. updating the dictionary using a fucntion\n",
    "dict_a.update({\"roll-no\":75})\n",
    "print(dict_a)\n",
    "dict_a.update({\"games\":\"cricket\"})\n",
    "print(dict_a)"
   ]
  },
  {
   "cell_type": "code",
   "execution_count": 108,
   "id": "97e185b8",
   "metadata": {},
   "outputs": [
    {
     "name": "stdout",
     "output_type": "stream",
     "text": [
      "{'name': 'sriram', 'roll-no': 75, 'role': 'ASE'}\n",
      "{}\n"
     ]
    }
   ],
   "source": [
    "# iv.clear and delete dictionary values\n",
    "del dict_a[\"games\"]\n",
    "print(dict_a)\n",
    "dict_a.clear()\n",
    "print(dict_a)"
   ]
  },
  {
   "cell_type": "markdown",
   "id": "c760306d",
   "metadata": {},
   "source": [
    "# 7.python program to insert a number to any position in a list"
   ]
  },
  {
   "cell_type": "code",
   "execution_count": 7,
   "id": "4a1f8d5f",
   "metadata": {},
   "outputs": [
    {
     "name": "stdout",
     "output_type": "stream",
     "text": [
      "2\n",
      "4\n",
      "[1, 2, 4, 3, 'sriram']\n"
     ]
    }
   ],
   "source": [
    "list_1=[1,2,3,\"sriram\"]\n",
    "index=int(input())\n",
    "if index>len(list_1):\n",
    "    print(\"list index out of range\")\n",
    "else:\n",
    "    number_to_insert=int(input())\n",
    "    c=type(number_to_insert)\n",
    "    if c==int:\n",
    "        list_1.insert(index,number_to_insert)\n",
    "        print(list_1)\n",
    "    else:\n",
    "        print(\"provide a number\")"
   ]
  },
  {
   "cell_type": "markdown",
   "id": "7f3ea61b",
   "metadata": {},
   "source": [
    "# 8.Python program to delete an element from the list by index"
   ]
  },
  {
   "cell_type": "code",
   "execution_count": 11,
   "id": "c5292205",
   "metadata": {},
   "outputs": [
    {
     "name": "stdout",
     "output_type": "stream",
     "text": [
      "2\n",
      "[1, 2, 4, 5, 'virat', 'dhoni']\n"
     ]
    }
   ],
   "source": [
    "del_List=[1,2,3,4,5,\"virat\",\"dhoni\"]\n",
    "del_index=int(input())\n",
    "if type(del_index)==int:\n",
    "    item=del_List[del_index]\n",
    "    del_List.remove(item)\n",
    "else:\n",
    "    print(\"provide a number\")\n",
    "print(del_List)\n",
    "    "
   ]
  },
  {
   "cell_type": "markdown",
   "id": "e683415d",
   "metadata": {},
   "source": [
    "# 9.write a program to display a number from 1 to 100.\n"
   ]
  },
  {
   "cell_type": "code",
   "execution_count": 14,
   "id": "fdb52750",
   "metadata": {},
   "outputs": [
    {
     "name": "stdout",
     "output_type": "stream",
     "text": [
      "1\n",
      "2\n",
      "3\n",
      "4\n",
      "5\n",
      "6\n",
      "7\n",
      "8\n",
      "9\n",
      "10\n",
      "11\n",
      "12\n",
      "13\n",
      "14\n",
      "15\n",
      "16\n",
      "17\n",
      "18\n",
      "19\n",
      "20\n",
      "21\n",
      "22\n",
      "23\n",
      "24\n",
      "25\n",
      "26\n",
      "27\n",
      "28\n",
      "29\n",
      "30\n",
      "31\n",
      "32\n",
      "33\n",
      "34\n",
      "35\n",
      "36\n",
      "37\n",
      "38\n",
      "39\n",
      "40\n",
      "41\n",
      "42\n",
      "43\n",
      "44\n",
      "45\n",
      "46\n",
      "47\n",
      "48\n",
      "49\n",
      "50\n",
      "51\n",
      "52\n",
      "53\n",
      "54\n",
      "55\n",
      "56\n",
      "57\n",
      "58\n",
      "59\n",
      "60\n",
      "61\n",
      "62\n",
      "63\n",
      "64\n",
      "65\n",
      "66\n",
      "67\n",
      "68\n",
      "69\n",
      "70\n",
      "71\n",
      "72\n",
      "73\n",
      "74\n",
      "75\n",
      "76\n",
      "77\n",
      "78\n",
      "79\n",
      "80\n",
      "81\n",
      "82\n",
      "83\n",
      "84\n",
      "85\n",
      "86\n",
      "87\n",
      "88\n",
      "89\n",
      "90\n",
      "91\n",
      "92\n",
      "93\n",
      "94\n",
      "95\n",
      "96\n",
      "97\n",
      "98\n",
      "99\n",
      "100\n"
     ]
    }
   ],
   "source": [
    "for i in range(1,101):\n",
    "    print(i)\n",
    "    "
   ]
  },
  {
   "cell_type": "markdown",
   "id": "13563ef1",
   "metadata": {},
   "source": [
    "# 10.Write a python program to find the sum of all items in a tuple."
   ]
  },
  {
   "cell_type": "code",
   "execution_count": 15,
   "id": "a58704b4",
   "metadata": {},
   "outputs": [
    {
     "name": "stdout",
     "output_type": "stream",
     "text": [
      "170\n"
     ]
    }
   ],
   "source": [
    "tuple=(1,2,34,4,4,4,4,3,2,2,14,5,6,7,7,66,5)\n",
    "tuple_sum=0\n",
    "for i in tuple:\n",
    "    tuple_sum=tuple_sum+i\n",
    "print(tuple_sum)"
   ]
  },
  {
   "cell_type": "markdown",
   "id": "44d02392",
   "metadata": {},
   "source": [
    "# 11.create a dictionary containing three lambda fucntions square,cube and square root.\n",
    "i)E.g dict(\"square\":)function for squaring \"cube:\"fuction for cube \"squareroot\":function for square root\n",
    "ii)passs the values (input from the user) to functions in the dictionary respectivley.\n",
    "iii)Then add the outputs of each fucntion and print it."
   ]
  },
  {
   "cell_type": "code",
   "execution_count": 16,
   "id": "df4be3dc",
   "metadata": {},
   "outputs": [
    {
     "name": "stdout",
     "output_type": "stream",
     "text": [
      "2\n",
      "square: 4\n",
      "cube: 8\n",
      "squareroot: 1.4142135623730951\n",
      "Sum of the outputs: 13.414213562373096\n"
     ]
    }
   ],
   "source": [
    "\n",
    "dict = {\n",
    "    \"square\": lambda x: x ** 2,\n",
    "    \"cube\": lambda x: x ** 3,\n",
    "    \"squareroot\": lambda x: x ** 0.5\n",
    "}\n",
    "num_input = int(input())\n",
    "sum = 0\n",
    "for i, j in dict.items():\n",
    "    result = j(num_input)\n",
    "    print(f\"{i}: {result}\")\n",
    "    sum += result\n",
    "print(\"Sum of the outputs:\", sum)\n"
   ]
  },
  {
   "cell_type": "markdown",
   "id": "206e2f4f",
   "metadata": {},
   "source": [
    "# 12.A list of words is given. Find the words from the list that they have thier second character in upperase.\n"
   ]
  },
  {
   "cell_type": "code",
   "execution_count": 18,
   "id": "f5168546",
   "metadata": {},
   "outputs": [
    {
     "name": "stdout",
     "output_type": "stream",
     "text": [
      "hOw\n",
      "ARe\n"
     ]
    }
   ],
   "source": [
    "ls=[\"hello\",\"Dear\",\"hOw\",\"ARe\",\"You\"]\n",
    "for i in ls:\n",
    "    second_char=i[1]\n",
    "    if second_char==second_char.upper():\n",
    "        print(i)"
   ]
  },
  {
   "cell_type": "markdown",
   "id": "5dc57f6d",
   "metadata": {},
   "source": [
    "# 13.A dictionary of names and thier weights on earth is given. Find how much they will weigh on the moon. (use map ans mabda functions)formula:wMoon=(Earth*Gmoon)?Gearth\n",
    "i) weight of people in kg \n",
    ".weightonEarth = {\"john\":45,\"shelly\":65,\"marry\":35}\n",
    "ii)gravitational force on moon :1.622 m/s**2\n",
    ".Gmoon=1.622\n",
    "iii)\n",
    "gravitational force on the earth :9.81 m?s**2\n",
    ". Gearth=9.81\n"
   ]
  },
  {
   "cell_type": "code",
   "execution_count": 31,
   "id": "6395d53c",
   "metadata": {},
   "outputs": [
    {
     "name": "stdout",
     "output_type": "stream",
     "text": [
      "[('John', 7.44), ('Shelly', 10.75), ('Marry', 5.79)]\n"
     ]
    }
   ],
   "source": [
    "WeightOnEarth={'John':45,'Shelly':65,'Marry':35} \n",
    "GMoon=1.622 \n",
    "GEarth=9.81 \n",
    "a=map(lambda x : (x,round((WeightOnEarth[x]/GEarth)*GMoon,2)), WeightOnEarth)\n",
    "b=list(a)\n",
    "print(b)"
   ]
  },
  {
   "cell_type": "markdown",
   "id": "20f877d4",
   "metadata": {},
   "source": [
    "# CONTROL STRUCTURE"
   ]
  },
  {
   "cell_type": "markdown",
   "id": "815b9eb6",
   "metadata": {},
   "source": [
    "# 3.write a python program to search for the string in the given list"
   ]
  },
  {
   "cell_type": "code",
   "execution_count": 22,
   "id": "1a315d0f",
   "metadata": {},
   "outputs": [
    {
     "name": "stdout",
     "output_type": "stream",
     "text": [
      "pandya\n",
      "string is not present in the list\n"
     ]
    }
   ],
   "source": [
    "string=input()\n",
    "list_to_search=[1,2,3,\"ram\",\"ravi\",\"rohit\",\"babar\",\"rizwan\"]\n",
    "if string in list_to_search:\n",
    "    print(string)\n",
    "else:\n",
    "    print(\"string is not present in the list\")"
   ]
  },
  {
   "cell_type": "markdown",
   "id": "c645f8b7",
   "metadata": {},
   "source": [
    "# 4.write a python program that accepts a string and calculates the number of uppercase letters and lower case letters in the given string."
   ]
  },
  {
   "cell_type": "code",
   "execution_count": 8,
   "id": "fb24eab0",
   "metadata": {},
   "outputs": [
    {
     "name": "stdout",
     "output_type": "stream",
     "text": [
      "HELLO World\n",
      "uppercase letters are: 6\n",
      "lowercase letters are: 4\n"
     ]
    }
   ],
   "source": [
    "string_a=input()\n",
    "uppercase_char=0\n",
    "lowercase_char=0\n",
    "sp_char=\" !@#$%^&*(){}|\\?/><.~`\"\";:'\"\n",
    "for i in string_a:\n",
    "    if i in sp_char:\n",
    "        continue\n",
    "    elif i==i.upper():\n",
    "        uppercase_char+=1\n",
    "    elif i==i.lower():\n",
    "        lowercase_char+=1\n",
    "    else:\n",
    "        continue\n",
    "\n",
    "        \n",
    "print(\"uppercase letters are:\",uppercase_char)\n",
    "print(\"lowercase letters are:\",lowercase_char)\n",
    "    "
   ]
  },
  {
   "cell_type": "markdown",
   "id": "e52cc10e",
   "metadata": {},
   "source": [
    "# 5.write a Python program to display the sum of odd numbers and even numbers that fall between 12 and 37.\n",
    "    "
   ]
  },
  {
   "cell_type": "code",
   "execution_count": 10,
   "id": "8e1a2c59",
   "metadata": {},
   "outputs": [
    {
     "name": "stdout",
     "output_type": "stream",
     "text": [
      "312\n",
      "325\n"
     ]
    }
   ],
   "source": [
    "first_num=12\n",
    "second_num=37\n",
    "sum_even=0\n",
    "sum_odd=0\n",
    "for i in range(first_num,second_num+1):\n",
    "    if i%2==0:\n",
    "        sum_even+=i\n",
    "    else :sum_odd+=i\n",
    "print(sum_even)\n",
    "print(sum_odd)\n",
    "        "
   ]
  },
  {
   "cell_type": "markdown",
   "id": "7dcab99d",
   "metadata": {},
   "source": [
    "# 6.write a program to print table of any number"
   ]
  },
  {
   "cell_type": "code",
   "execution_count": 12,
   "id": "a46c91e6",
   "metadata": {},
   "outputs": [
    {
     "name": "stdout",
     "output_type": "stream",
     "text": [
      "9\n",
      "9 x 1 = 9\n",
      "9 x 2 = 18\n",
      "9 x 3 = 27\n",
      "9 x 4 = 36\n",
      "9 x 5 = 45\n",
      "9 x 6 = 54\n",
      "9 x 7 = 63\n",
      "9 x 8 = 72\n",
      "9 x 9 = 81\n",
      "9 x 10 = 90\n"
     ]
    }
   ],
   "source": [
    "table_num=int(input())\n",
    "for i in range(1,11):\n",
    "    res=table_num*i\n",
    "    print(str(table_num)+\" x \"+str(i)+\" = \"+str(res))\n",
    "    "
   ]
  },
  {
   "cell_type": "markdown",
   "id": "787356c5",
   "metadata": {},
   "source": [
    "# 8. wirte a python program to implement arithmetic operationd using nested if statements."
   ]
  },
  {
   "cell_type": "code",
   "execution_count": 16,
   "id": "6b55fda4",
   "metadata": {},
   "outputs": [
    {
     "name": "stdout",
     "output_type": "stream",
     "text": [
      "5\n",
      "6\n",
      "*\n",
      "5*6 = 30\n"
     ]
    }
   ],
   "source": [
    "operand_1=int(input())\n",
    "operand_2=int(input())\n",
    "operator=input()\n",
    "if operator==\"+\":\n",
    "    resl=operand_1 + operand_2\n",
    "    print(str(operand_1)+str(operator)+str(operand_2)+\" = \"+str(resl))\n",
    "elif operator==\"-\":\n",
    "    resl=operand_1 - operand_2\n",
    "    print(str(operand_1)+str(operator)+str(operand_2)+\" = \"+str(resl))\n",
    "elif operator==\"*\":\n",
    "    resl=operand_1 * operand_2\n",
    "    print(str(operand_1)+str(operator)+str(operand_2)+\" = \"+str(resl))\n",
    "elif operator==\"/\":\n",
    "    resl=operand_1 / operand_2\n",
    "    print(str(operand_1)+str(operator)+str(operand_2)+\" = \"+str(resl))\n",
    "elif operator==\"//\":\n",
    "    resl=operand_1 // operand_2\n",
    "    print(str(operand_1)+str(operator)+str(operand_2)+\" = \"+str(resl))\n",
    "elif operator==\"**\":\n",
    "    resl=operand_1 ** operand_2\n",
    "    print(str(operand_1)+str(operator)+str(operand_2)+\" = \"+str(resl))\n",
    "elif operator==\"%\":\n",
    "    resl=operand_1 % operand_2\n",
    "    print(str(operand_1)+str(operator)+str(operand_2)+\" = \"+str(resl))"
   ]
  },
  {
   "cell_type": "markdown",
   "id": "d675971b",
   "metadata": {},
   "source": [
    "# 9.writr a python program to take temparature in celsius and convert it into farenheit.\n",
    "\n"
   ]
  },
  {
   "cell_type": "code",
   "execution_count": 1,
   "id": "c43d6d3d",
   "metadata": {},
   "outputs": [
    {
     "name": "stdout",
     "output_type": "stream",
     "text": [
      "38.5\n",
      "38.5 degree Celsius is equal to 101.3 degree Fahrenheit\n"
     ]
    }
   ],
   "source": [
    "celsius = float(input())\n",
    "\n",
    "fahrenheit = (celsius * 1.8) + 32\n",
    "print('%0.1f degree Celsius is equal to %0.1f degree Fahrenheit' %(celsius,fahrenheit))"
   ]
  },
  {
   "cell_type": "markdown",
   "id": "d09664bb",
   "metadata": {},
   "source": [
    "# 10. write a python program to find a maximum and a minimum number in a list without using an inbuilt function."
   ]
  },
  {
   "cell_type": "code",
   "execution_count": 2,
   "id": "d53dca6e",
   "metadata": {},
   "outputs": [
    {
     "name": "stdout",
     "output_type": "stream",
     "text": [
      "0\n",
      "191\n"
     ]
    }
   ],
   "source": [
    "list_with_min_max =[1,24,56,7,81,23,45,9,35,191,92,11,21,30,0]\n",
    "min_of_ls = 1\n",
    "max_of_ls = 0\n",
    "for i in list_with_min_max:\n",
    "    if i>max_of_ls:\n",
    "        max_of_ls=i\n",
    "    elif i<=min_of_ls:\n",
    "        min_of_ls=i\n",
    "print(min_of_ls)\n",
    "print(max_of_ls)"
   ]
  },
  {
   "cell_type": "markdown",
   "id": "4cfd0ba4",
   "metadata": {},
   "source": [
    "# 11.write a python program  to print out the number of second in 30-days, 24 hours in a day, 60 minutes per day, 60 seconds in a minute"
   ]
  },
  {
   "cell_type": "code",
   "execution_count": 6,
   "id": "a2810d5a",
   "metadata": {},
   "outputs": [
    {
     "name": "stdout",
     "output_type": "stream",
     "text": [
      "number_of_seconds_in_a_month : 2592000\n"
     ]
    }
   ],
   "source": [
    "number_of_days_in_a_month=30\n",
    "no_of_hours_in_day=24\n",
    "number_of_seconds_in_a_day=no_of_hours_in_day*60*60\n",
    "number_of_seconds_in_a_month=number_of_seconds_in_a_day*number_of_days_in_a_month\n",
    "print(\"number_of_seconds_in_a_month :\",number_of_seconds_in_a_month)"
   ]
  },
  {
   "cell_type": "markdown",
   "id": "aeb19dc5",
   "metadata": {},
   "source": [
    "# 12.write a program in python to print out the number of seconds a in a year"
   ]
  },
  {
   "cell_type": "code",
   "execution_count": 5,
   "id": "65efc577",
   "metadata": {},
   "outputs": [
    {
     "name": "stdout",
     "output_type": "stream",
     "text": [
      "the number of seconds in a year : 31536000\n"
     ]
    }
   ],
   "source": [
    "number_of_days_in_a_year=365\n",
    "number_of_days_in_leap_year=366\n",
    "no_of_hours_in_day=24\n",
    "number_of_seconds_in_a_day=no_of_hours_in_day*60*60\n",
    "number_of_seconds_in_year=365*number_of_seconds_in_a_day\n",
    "\n",
    "print(\"the number of seconds in a year :\",number_of_seconds_in_year)"
   ]
  },
  {
   "cell_type": "markdown",
   "id": "1432f2cb",
   "metadata": {},
   "source": [
    "# 2.Write the python code that calculates the salary of an employee. prompt the user to enter the Basic Salary,HRA,TA and DA . Add these components to calculate the gross salary.Also deduct 10% of salary from the Gross salary to be paid as tax and display gross minus tax as net salary."
   ]
  },
  {
   "cell_type": "code",
   "execution_count": 5,
   "id": "08efd472",
   "metadata": {},
   "outputs": [
    {
     "name": "stdout",
     "output_type": "stream",
     "text": [
      "80000\n",
      "500\n",
      "1000\n",
      "500\n",
      "73800.0\n"
     ]
    }
   ],
   "source": [
    "HRA=int(input())\n",
    "SA=int(input())\n",
    "TA=int(input())\n",
    "DA=int(input())\n",
    "Gross = HRA + SA + TA + DA\n",
    "deduction = 0.1 * Gross\n",
    "total = Gross -deduction\n",
    "print(total)\n"
   ]
  },
  {
   "cell_type": "markdown",
   "id": "f51885ae",
   "metadata": {},
   "source": [
    "# 15.If the age of Ram,Sam and Khan are input through the keyboard, write a python program to determine the eldest and youngest of three."
   ]
  },
  {
   "cell_type": "code",
   "execution_count": 3,
   "id": "a13d152f",
   "metadata": {},
   "outputs": [
    {
     "name": "stdout",
     "output_type": "stream",
     "text": [
      "56\n",
      "54\n",
      "42\n",
      "RAM is ELdest\n",
      "Khan is Youngest\n"
     ]
    }
   ],
   "source": [
    "Ram=int(input())\n",
    "Sam=int(input())\n",
    "khan=int(input())\n",
    "eldest=0\n",
    "youngest=0\n",
    "if Ram>Sam and Ram>khan:\n",
    "   \n",
    "    print(\"RAM is ELdest\")\n",
    "elif Sam>Khan:\n",
    "    \n",
    "    print(\"Sam is ELdest\")\n",
    "else :\n",
    "    \n",
    "    print(\"Khan is ELdest\")\n",
    "\n",
    "if Ram<Sam and Ram<khan:\n",
    "    \n",
    "    print(\"Ram is Youngest\")\n",
    "elif Sam<khan:\n",
    "    print(\"Sam is Youngest\")\n",
    "else:\n",
    "    print(\"Khan is Youngest\")\n",
    "\n",
    "\n"
   ]
  },
  {
   "cell_type": "markdown",
   "id": "95f4cdce",
   "metadata": {},
   "source": [
    "# 1.Write a Python program to find  the first first N prime numbers.\n",
    "\n"
   ]
  },
  {
   "cell_type": "code",
   "execution_count": 3,
   "id": "40ffd904",
   "metadata": {},
   "outputs": [
    {
     "name": "stdout",
     "output_type": "stream",
     "text": [
      "100\n",
      "2 3 5 7 11 13 17 19 23 29 31 37 41 43 47 53 59 61 67 71 73 79 83 89 97 "
     ]
    }
   ],
   "source": [
    "def check_if_prime(n):\n",
    " \n",
    "  if(n==1 or n==0):\n",
    "    return False\n",
    "   \n",
    " \n",
    "  for i in range(2,n):\n",
    "   \n",
    "    if(n%i==0):\n",
    "      return False\n",
    "   \n",
    "  \n",
    "  return True\n",
    " \n",
    " \n",
    "\n",
    "n=int(input());\n",
    "\n",
    "for i in range(1,n+1):\n",
    "  \n",
    "  if(check_if_prime(i)):\n",
    "    print(i,end=\" \")"
   ]
  },
  {
   "cell_type": "markdown",
   "id": "8bcea2d0",
   "metadata": {},
   "source": [
    "# 7.Write a python program to SUm thr first 10 prime numbers"
   ]
  },
  {
   "cell_type": "code",
   "execution_count": 8,
   "id": "9d1c2972",
   "metadata": {},
   "outputs": [
    {
     "name": "stdout",
     "output_type": "stream",
     "text": [
      "17\n"
     ]
    }
   ],
   "source": [
    "def check_if_prime(n):\n",
    " \n",
    "  if(n==1 or n==0):\n",
    "    return False\n",
    "   \n",
    " \n",
    "  for i in range(2,n):\n",
    "   \n",
    "    if(n%i==0):\n",
    "      return False\n",
    "   \n",
    "  \n",
    "  return True\n",
    " \n",
    " \n",
    "\n",
    "n=10\n",
    "sum_of_primes=0\n",
    "\n",
    "for i in range(1,n+1):\n",
    "  \n",
    "  if(check_if_prime(i)):\n",
    "        sum_of_primes+=i\n",
    "        \n",
    "print(sum_of_primes)"
   ]
  },
  {
   "cell_type": "markdown",
   "id": "9baaef28",
   "metadata": {},
   "source": [
    "# 13.A high speed train can travel at an average speed of 150mph,how long will it take a train travelling at this speed to travel from london to glasgow which is 414 miles away?"
   ]
  },
  {
   "cell_type": "code",
   "execution_count": 34,
   "id": "95e34b51",
   "metadata": {},
   "outputs": [
    {
     "name": "stdout",
     "output_type": "stream",
     "text": [
      "2.76 hours\n"
     ]
    }
   ],
   "source": [
    "speed_of_train = 150\n",
    "distance = 414\n",
    "time_hours = distance / speed\n",
    "print(time_hours,\"hours\")"
   ]
  },
  {
   "cell_type": "markdown",
   "id": "39a1c728",
   "metadata": {},
   "source": [
    "# 14.write a python program  that defines a variable called days_in_each_school_year and assign 192 to the variable. the program should then print out the total hours that you spend in school form year to 7 year 11, if each day youn spend 6 hours in school days_ineach_school_year =192"
   ]
  },
  {
   "cell_type": "code",
   "execution_count": 35,
   "id": "67130a6e",
   "metadata": {},
   "outputs": [
    {
     "name": "stdout",
     "output_type": "stream",
     "text": [
      "4608 hours\n"
     ]
    }
   ],
   "source": [
    "days_in_each_school_year = 192\n",
    "\n",
    "\n",
    "years = 4\n",
    "\n",
    "\n",
    "hours_per_day = 6\n",
    "\n",
    "\n",
    "total_hours = years * days_in_each_school_year * hours_per_day\n",
    "print(total_hours,\"hours\")"
   ]
  },
  {
   "cell_type": "markdown",
   "id": "960b3e45",
   "metadata": {},
   "source": [
    "# 16.write a python program to rotate a list by right n times and without slicing technique."
   ]
  },
  {
   "cell_type": "code",
   "execution_count": 38,
   "id": "405b5ff7",
   "metadata": {},
   "outputs": [
    {
     "name": "stdout",
     "output_type": "stream",
     "text": [
      "Rotated List: [5, 1, 2, 3, 4]\n"
     ]
    }
   ],
   "source": [
    "def list_rotation(list_n, n):\n",
    "      \n",
    "\n",
    "    n %= len(list_n)  \n",
    "\n",
    "    for _ in range(n):\n",
    "        pop_element = list_n.pop()\n",
    "        list_n.insert(0, pop_element)\n",
    "\n",
    "\n",
    "list_of_num = [25,12,21,21,12]\n",
    "n = 3 \n",
    "\n",
    "\n",
    "list_rotation(my_list, n)\n",
    "print(\"Rotated List:\", my_list)"
   ]
  },
  {
   "cell_type": "markdown",
   "id": "8ec1fcd1",
   "metadata": {},
   "source": [
    "# 17.pythons program to print the patterns given below."
   ]
  },
  {
   "cell_type": "code",
   "execution_count": 40,
   "id": "a6ca10ad",
   "metadata": {},
   "outputs": [
    {
     "name": "stdout",
     "output_type": "stream",
     "text": [
      "1 \n",
      "1 1 \n",
      "1 2 1 \n",
      "1 3 3 1 \n",
      "1 4 6 4 1 \n",
      "1 5 10 10 5 1 \n",
      "1 6 15 20 15 6 1 \n"
     ]
    }
   ],
   "source": [
    "def pattern_number(s,q):\n",
    "    num=1\n",
    "    if s>s-q:\n",
    "        q=s-q\n",
    "    for i in range (0,q):\n",
    "            num=num*(s-i)\n",
    "            num=num//(i+1)\n",
    "    return num\n",
    "\n",
    "\n",
    "\n",
    "\n",
    "def triangle_pattern(number):\n",
    "    for i in range(0,number):\n",
    "        for j in range(0,i+1):\n",
    "            print(pattern_number(i,j),end=\" \")\n",
    "        print()\n",
    "\n",
    "number=7\n",
    "triangle_pattern(number)"
   ]
  },
  {
   "cell_type": "code",
   "execution_count": 41,
   "id": "3edf6b6d",
   "metadata": {},
   "outputs": [
    {
     "name": "stdout",
     "output_type": "stream",
     "text": [
      "\n",
      "p\n",
      "py\n",
      "pyt\n",
      "pyth\n",
      "pytho\n",
      "python\n"
     ]
    }
   ],
   "source": [
    "string=\"python\"\n",
    "for i in range(len(string)+1):\n",
    "    print(string[:i])"
   ]
  },
  {
   "cell_type": "code",
   "execution_count": 42,
   "id": "539c4250",
   "metadata": {},
   "outputs": [
    {
     "name": "stdout",
     "output_type": "stream",
     "text": [
      "5\n",
      "*\n",
      "**\n",
      "***\n",
      "****\n",
      "*****\n"
     ]
    }
   ],
   "source": [
    "row_input=int(input())\n",
    "for i in range(1,row_input+1):\n",
    "    print(\"*\" * i)"
   ]
  },
  {
   "cell_type": "code",
   "execution_count": 1,
   "id": "3357cfc1",
   "metadata": {},
   "outputs": [
    {
     "name": "stdout",
     "output_type": "stream",
     "text": [
      "7\n",
      "      * \n",
      "     * * \n",
      "    * * * \n",
      "   * * * * \n",
      "  * * * * * \n",
      " * * * * * * \n",
      "* * * * * * * \n"
     ]
    }
   ],
   "source": [
    "a_input=int(input())\n",
    "for i in range(1,a_input+1):\n",
    "    if i==1:\n",
    "        print(\" \"*(a_input-i)+\"* \")\n",
    "    elif i==a_input:\n",
    "        print(\"* \"*a_input)\n",
    "    else:\n",
    "        print(\" \"*(a_input-i)+\"* \"*i)\n",
    "        "
   ]
  },
  {
   "cell_type": "code",
   "execution_count": null,
   "id": "0f148ca5",
   "metadata": {},
   "outputs": [],
   "source": []
  },
  {
   "cell_type": "code",
   "execution_count": null,
   "id": "26d87724",
   "metadata": {},
   "outputs": [],
   "source": []
  }
 ],
 "metadata": {
  "kernelspec": {
   "display_name": "Python 3 (ipykernel)",
   "language": "python",
   "name": "python3"
  },
  "language_info": {
   "codemirror_mode": {
    "name": "ipython",
    "version": 3
   },
   "file_extension": ".py",
   "mimetype": "text/x-python",
   "name": "python",
   "nbconvert_exporter": "python",
   "pygments_lexer": "ipython3",
   "version": "3.11.4"
  }
 },
 "nbformat": 4,
 "nbformat_minor": 5
}
